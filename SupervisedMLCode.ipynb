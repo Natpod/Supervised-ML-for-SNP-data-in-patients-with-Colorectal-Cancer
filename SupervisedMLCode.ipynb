{
 "cells": [
  {
   "cell_type": "markdown",
   "metadata": {},
   "source": [
    "# Supervised Machine Learning model Deployment for Single-Nucleotide Polymorphisms (SNP) data in Patients with Colorectal Cancer (CRC)\n",
    "\n",
    "*Date : 19/12/2022*\n",
    "\n",
    "---\n",
    "\n",
    "## Introduction\n",
    "\n",
    "Colorectal cancer (CRC) is caused by uncontrolled proliferation of colon and rectum cells and is one of the principal causes of death in the world. However, an early diagnosis can increase survival rates, as prompt treatment can lead to a full recovery (Mármol et al., 2017). It is also known that individuals affected by this disease response differently to the treatment depending on their genetic information (Fagny et al., 2020). Particularly, one of the most useful type of genetic variation for disease detection reported are Single-Nucleotide Polymorphisms (SNP), or changes in a single nucleotide that are rare variants in the population (Vignal et al., 2002). \n",
    "\n",
    "\n",
    "**Description of the project :** In this way, the objective of the present work is implementing, deploying and comparing supervised machine learning models to develop a classifier that will distinguish if an patient with Colorectal cancer (CRC) will have a good (R) or inexistent (NR) response to treatment based on its Single-Nucleotide polymorphism (SNP) information."
   ]
  },
  {
   "cell_type": "markdown",
   "metadata": {},
   "source": [
    "---\n",
    "## INDEX OF CONTENTS\n",
    "---"
   ]
  },
  {
   "cell_type": "markdown",
   "metadata": {},
   "source": [
    "1. **Data preparation and analysis**--> [link interno 1](#DataPrep)\n",
    "    1. **Exploratory Data Analysis**\n",
    "    2. **Data Preprocessing**\n",
    "    3. **Data Splitting** - Train-Test\n",
    "\n",
    "\n",
    "3. **Model training**--> [link interno 2](#ML)\n",
    "\n",
    "    --> Cross-validation and hyperparameter tuning\n",
    "    1. **KNN Classifier**\n",
    "    2. **Decision Tree Classifier**\n",
    "    3. **Random Tree Classifier**\n",
    "    4. **MLP classifier**\n",
    "    5. **Logistic Regression**\n",
    "    6. **Ridge Regression.**\n",
    "    ---\n",
    "     \n",
    "    \n",
    "3. **Model assessment**--> [link interno 3](#Results)\n",
    "4. **Conclusion**--> [link interno 4](#Conclusion)\n",
    "5. **References**"
   ]
  },
  {
   "cell_type": "markdown",
   "metadata": {},
   "source": [
    "### Libraries importation"
   ]
  },
  {
   "cell_type": "code",
   "execution_count": 1,
   "metadata": {
    "tags": []
   },
   "outputs": [],
   "source": [
    "import pandas as pd\n",
    "import seaborn as sns\n",
    "import numpy as np\n",
    "import matplotlib.pyplot as plt\n",
    "\n",
    "from sklearn.preprocessing import LabelEncoder\n",
    "\n",
    "from sklearn.model_selection import train_test_split\n",
    "\n",
    "from sklearn import neighbors\n",
    "from sklearn.neighbors import KNeighborsClassifier\n",
    "from sklearn.tree import DecisionTreeClassifier\n",
    "from sklearn.ensemble import RandomForestClassifier\n",
    "from sklearn.neural_network import MLPClassifier\n",
    "from sklearn.linear_model import LogisticRegression\n",
    "\n",
    "from sklearn.model_selection import cross_validate\n",
    "from sklearn.model_selection import GridSearchCV\n",
    "from sklearn.metrics import classification_report\n",
    "from sklearn.metrics import accuracy_score\n",
    "from sklearn.metrics import confusion_matrix\n",
    "from sklearn.metrics import ConfusionMatrixDisplay\n",
    "\n",
    "\n",
    "from sklearn.tree import export_graphviz\n",
    "from pydotplus import graph_from_dot_data\n",
    "from IPython import display\n",
    "\n",
    "# fixing random seed for all models\n",
    "np.random.seed(8)"
   ]
  },
  {
   "cell_type": "markdown",
   "metadata": {},
   "source": [
    "<a id='#DataPrep'></a>"
   ]
  },
  {
   "cell_type": "markdown",
   "metadata": {},
   "source": [
    "---"
   ]
  },
  {
   "cell_type": "markdown",
   "metadata": {},
   "source": [
    "# 1. Data preparation and analysis"
   ]
  },
  {
   "cell_type": "markdown",
   "metadata": {},
   "source": [
    "#### Dataset import"
   ]
  },
  {
   "cell_type": "code",
   "execution_count": 2,
   "metadata": {},
   "outputs": [],
   "source": [
    "df = pd.read_csv(\"dataset9.csv\")\n",
    "df = df[df.columns[1:]]"
   ]
  },
  {
   "cell_type": "markdown",
   "metadata": {},
   "source": [
    "#### Dataset description"
   ]
  },
  {
   "cell_type": "markdown",
   "metadata": {},
   "source": [
    "The present work will use data from different individuals that have been diagnosed with rectal colon cancer containing encoded information describing their SNP mutation (M) and non mutation (W) in both chromosomal pairs for 21 different genome locus associated to each SNP ('WW' encoded as 0 ,'WM' as 1, 'MW' as 2, 'MM' as 3), and the categorization of them based on its good response (R) or bad response to the treatment (NR), present in the `Target` column. \n",
    "\n",
    "This is a glimpse of the dataset.\n"
   ]
  },
  {
   "cell_type": "code",
   "execution_count": 3,
   "metadata": {},
   "outputs": [
    {
     "data": {
      "text/html": [
       "<div>\n",
       "<style scoped>\n",
       "    .dataframe tbody tr th:only-of-type {\n",
       "        vertical-align: middle;\n",
       "    }\n",
       "\n",
       "    .dataframe tbody tr th {\n",
       "        vertical-align: top;\n",
       "    }\n",
       "\n",
       "    .dataframe thead th {\n",
       "        text-align: right;\n",
       "    }\n",
       "</style>\n",
       "<table border=\"1\" class=\"dataframe\">\n",
       "  <thead>\n",
       "    <tr style=\"text-align: right;\">\n",
       "      <th></th>\n",
       "      <th>Target</th>\n",
       "      <th>n_rs3188513</th>\n",
       "      <th>n_rs9960669</th>\n",
       "      <th>n_rs2602</th>\n",
       "      <th>n_rs5445365</th>\n",
       "      <th>n_rs133061</th>\n",
       "      <th>n_rs10102851</th>\n",
       "      <th>n_rs8375668</th>\n",
       "      <th>n_rs3015353</th>\n",
       "      <th>n_rs3229523</th>\n",
       "      <th>...</th>\n",
       "      <th>n_rs9280789</th>\n",
       "      <th>n_rs2515462</th>\n",
       "      <th>n_rs9025039</th>\n",
       "      <th>n_rs94282819</th>\n",
       "      <th>n_rs344903</th>\n",
       "      <th>n_rs0370</th>\n",
       "      <th>n_rs9072249</th>\n",
       "      <th>n_rs0220</th>\n",
       "      <th>n_rs833068</th>\n",
       "      <th>n_rs933069</th>\n",
       "    </tr>\n",
       "  </thead>\n",
       "  <tbody>\n",
       "    <tr>\n",
       "      <th>0</th>\n",
       "      <td>R</td>\n",
       "      <td>0</td>\n",
       "      <td>2</td>\n",
       "      <td>0</td>\n",
       "      <td>1</td>\n",
       "      <td>1</td>\n",
       "      <td>2</td>\n",
       "      <td>1</td>\n",
       "      <td>1</td>\n",
       "      <td>0</td>\n",
       "      <td>...</td>\n",
       "      <td>2</td>\n",
       "      <td>0</td>\n",
       "      <td>0</td>\n",
       "      <td>1</td>\n",
       "      <td>0</td>\n",
       "      <td>2</td>\n",
       "      <td>2</td>\n",
       "      <td>0</td>\n",
       "      <td>2</td>\n",
       "      <td>2</td>\n",
       "    </tr>\n",
       "    <tr>\n",
       "      <th>1</th>\n",
       "      <td>R</td>\n",
       "      <td>0</td>\n",
       "      <td>2</td>\n",
       "      <td>1</td>\n",
       "      <td>2</td>\n",
       "      <td>0</td>\n",
       "      <td>0</td>\n",
       "      <td>1</td>\n",
       "      <td>0</td>\n",
       "      <td>0</td>\n",
       "      <td>...</td>\n",
       "      <td>2</td>\n",
       "      <td>1</td>\n",
       "      <td>0</td>\n",
       "      <td>1</td>\n",
       "      <td>2</td>\n",
       "      <td>0</td>\n",
       "      <td>1</td>\n",
       "      <td>0</td>\n",
       "      <td>0</td>\n",
       "      <td>1</td>\n",
       "    </tr>\n",
       "    <tr>\n",
       "      <th>2</th>\n",
       "      <td>R</td>\n",
       "      <td>0</td>\n",
       "      <td>2</td>\n",
       "      <td>0</td>\n",
       "      <td>1</td>\n",
       "      <td>0</td>\n",
       "      <td>2</td>\n",
       "      <td>0</td>\n",
       "      <td>1</td>\n",
       "      <td>1</td>\n",
       "      <td>...</td>\n",
       "      <td>2</td>\n",
       "      <td>1</td>\n",
       "      <td>0</td>\n",
       "      <td>2</td>\n",
       "      <td>1</td>\n",
       "      <td>1</td>\n",
       "      <td>0</td>\n",
       "      <td>1</td>\n",
       "      <td>0</td>\n",
       "      <td>0</td>\n",
       "    </tr>\n",
       "    <tr>\n",
       "      <th>3</th>\n",
       "      <td>R</td>\n",
       "      <td>0</td>\n",
       "      <td>2</td>\n",
       "      <td>2</td>\n",
       "      <td>1</td>\n",
       "      <td>0</td>\n",
       "      <td>0</td>\n",
       "      <td>1</td>\n",
       "      <td>0</td>\n",
       "      <td>1</td>\n",
       "      <td>...</td>\n",
       "      <td>0</td>\n",
       "      <td>0</td>\n",
       "      <td>2</td>\n",
       "      <td>0</td>\n",
       "      <td>2</td>\n",
       "      <td>0</td>\n",
       "      <td>2</td>\n",
       "      <td>0</td>\n",
       "      <td>1</td>\n",
       "      <td>1</td>\n",
       "    </tr>\n",
       "    <tr>\n",
       "      <th>4</th>\n",
       "      <td>R</td>\n",
       "      <td>0</td>\n",
       "      <td>0</td>\n",
       "      <td>2</td>\n",
       "      <td>0</td>\n",
       "      <td>1</td>\n",
       "      <td>2</td>\n",
       "      <td>1</td>\n",
       "      <td>1</td>\n",
       "      <td>1</td>\n",
       "      <td>...</td>\n",
       "      <td>1</td>\n",
       "      <td>0</td>\n",
       "      <td>0</td>\n",
       "      <td>2</td>\n",
       "      <td>2</td>\n",
       "      <td>2</td>\n",
       "      <td>1</td>\n",
       "      <td>1</td>\n",
       "      <td>1</td>\n",
       "      <td>1</td>\n",
       "    </tr>\n",
       "  </tbody>\n",
       "</table>\n",
       "<p>5 rows × 22 columns</p>\n",
       "</div>"
      ],
      "text/plain": [
       "  Target  n_rs3188513  n_rs9960669  n_rs2602  n_rs5445365  n_rs133061  \\\n",
       "0      R            0            2         0            1           1   \n",
       "1      R            0            2         1            2           0   \n",
       "2      R            0            2         0            1           0   \n",
       "3      R            0            2         2            1           0   \n",
       "4      R            0            0         2            0           1   \n",
       "\n",
       "   n_rs10102851  n_rs8375668  n_rs3015353  n_rs3229523  ...  n_rs9280789  \\\n",
       "0             2            1            1            0  ...            2   \n",
       "1             0            1            0            0  ...            2   \n",
       "2             2            0            1            1  ...            2   \n",
       "3             0            1            0            1  ...            0   \n",
       "4             2            1            1            1  ...            1   \n",
       "\n",
       "   n_rs2515462  n_rs9025039  n_rs94282819  n_rs344903  n_rs0370  n_rs9072249  \\\n",
       "0            0            0             1           0         2            2   \n",
       "1            1            0             1           2         0            1   \n",
       "2            1            0             2           1         1            0   \n",
       "3            0            2             0           2         0            2   \n",
       "4            0            0             2           2         2            1   \n",
       "\n",
       "   n_rs0220  n_rs833068  n_rs933069  \n",
       "0         0           2           2  \n",
       "1         0           0           1  \n",
       "2         1           0           0  \n",
       "3         0           1           1  \n",
       "4         1           1           1  \n",
       "\n",
       "[5 rows x 22 columns]"
      ]
     },
     "execution_count": 3,
     "metadata": {},
     "output_type": "execute_result"
    }
   ],
   "source": [
    "df.head()"
   ]
  },
  {
   "cell_type": "markdown",
   "metadata": {},
   "source": [
    "In this way it contains 53 individuals (rows), 21 features (associated to different SNPs), and one label (22 columns)"
   ]
  },
  {
   "cell_type": "code",
   "execution_count": 4,
   "metadata": {},
   "outputs": [
    {
     "data": {
      "text/plain": [
       "(53, 22)"
      ]
     },
     "execution_count": 4,
     "metadata": {},
     "output_type": "execute_result"
    }
   ],
   "source": [
    "df.shape"
   ]
  },
  {
   "cell_type": "markdown",
   "metadata": {},
   "source": [
    "## 1.1. Exploratory Data Analysis\n",
    "    In this stage we will focus on analyzing and visualizing data to decide how to divide it and process it for training"
   ]
  },
  {
   "cell_type": "markdown",
   "metadata": {},
   "source": [
    "**Check if there are missing values**"
   ]
  },
  {
   "cell_type": "code",
   "execution_count": 5,
   "metadata": {},
   "outputs": [
    {
     "data": {
      "text/plain": [
       "Target          0\n",
       "n_rs3188513     0\n",
       "n_rs9960669     0\n",
       "n_rs2602        0\n",
       "n_rs5445365     0\n",
       "n_rs133061      0\n",
       "n_rs10102851    0\n",
       "n_rs8375668     0\n",
       "n_rs3015353     0\n",
       "n_rs3229523     0\n",
       "n_rs6236416     0\n",
       "n_rs5274755     0\n",
       "n_rs9280789     0\n",
       "n_rs2515462     0\n",
       "n_rs9025039     0\n",
       "n_rs94282819    0\n",
       "n_rs344903      0\n",
       "n_rs0370        0\n",
       "n_rs9072249     0\n",
       "n_rs0220        0\n",
       "n_rs833068      0\n",
       "n_rs933069      0\n",
       "dtype: int64"
      ]
     },
     "execution_count": 5,
     "metadata": {},
     "output_type": "execute_result"
    }
   ],
   "source": [
    "df.isnull().sum()"
   ]
  },
  {
   "cell_type": "markdown",
   "metadata": {},
   "source": [
    "No missing values were found"
   ]
  },
  {
   "cell_type": "markdown",
   "metadata": {},
   "source": [
    "**Check categorical type frequencies**"
   ]
  },
  {
   "cell_type": "code",
   "execution_count": 6,
   "metadata": {},
   "outputs": [
    {
     "name": "stdout",
     "output_type": "stream",
     "text": [
      "Label frequency data\n",
      "R     30\n",
      "NR    23\n",
      "Name: Target, dtype: int64\n"
     ]
    }
   ],
   "source": [
    "# Label frequency data\n",
    "print('Label frequency data')\n",
    "print(df['Target'].value_counts())\n"
   ]
  },
  {
   "cell_type": "markdown",
   "metadata": {},
   "source": [
    "There is an overrepresented label (corresponding to Responsive patients R). However, there is not noticeable misbalance between the qualitative types that would affect the data distribution for training, as the frequencies are somewhat simmilar."
   ]
  },
  {
   "cell_type": "code",
   "execution_count": 7,
   "metadata": {},
   "outputs": [
    {
     "data": {
      "text/html": [
       "<style type=\"text/css\">\n",
       "#T_2c437_row0_col0 {\n",
       "  background-color: #034e7b;\n",
       "  color: #f1f1f1;\n",
       "}\n",
       "#T_2c437_row0_col1 {\n",
       "  background-color: #e3e0ee;\n",
       "  color: #000000;\n",
       "}\n",
       "#T_2c437_row0_col2, #T_2c437_row0_col10, #T_2c437_row0_col17 {\n",
       "  background-color: #c2cbe2;\n",
       "  color: #000000;\n",
       "}\n",
       "#T_2c437_row0_col3, #T_2c437_row0_col5, #T_2c437_row0_col13 {\n",
       "  background-color: #d9d8ea;\n",
       "  color: #000000;\n",
       "}\n",
       "#T_2c437_row0_col4 {\n",
       "  background-color: #157ab5;\n",
       "  color: #f1f1f1;\n",
       "}\n",
       "#T_2c437_row0_col6, #T_2c437_row0_col12 {\n",
       "  background-color: #034369;\n",
       "  color: #f1f1f1;\n",
       "}\n",
       "#T_2c437_row0_col7 {\n",
       "  background-color: #2685bb;\n",
       "  color: #f1f1f1;\n",
       "}\n",
       "#T_2c437_row0_col8, #T_2c437_row1_col17, #T_2c437_row2_col5 {\n",
       "  background-color: #023858;\n",
       "  color: #f1f1f1;\n",
       "}\n",
       "#T_2c437_row0_col9, #T_2c437_row2_col6 {\n",
       "  background-color: #f2ecf5;\n",
       "  color: #000000;\n",
       "}\n",
       "#T_2c437_row0_col11, #T_2c437_row1_col0, #T_2c437_row1_col3, #T_2c437_row1_col12 {\n",
       "  background-color: #73a9cf;\n",
       "  color: #f1f1f1;\n",
       "}\n",
       "#T_2c437_row0_col14, #T_2c437_row0_col16, #T_2c437_row1_col5, #T_2c437_row2_col8, #T_2c437_row3_col0, #T_2c437_row3_col1, #T_2c437_row3_col2, #T_2c437_row3_col3, #T_2c437_row3_col4, #T_2c437_row3_col5, #T_2c437_row3_col6, #T_2c437_row3_col7, #T_2c437_row3_col8, #T_2c437_row3_col9, #T_2c437_row3_col10, #T_2c437_row3_col11, #T_2c437_row3_col12, #T_2c437_row3_col13, #T_2c437_row3_col14, #T_2c437_row3_col15, #T_2c437_row3_col16, #T_2c437_row3_col17, #T_2c437_row3_col18, #T_2c437_row3_col19, #T_2c437_row3_col20 {\n",
       "  background-color: #fff7fb;\n",
       "  color: #000000;\n",
       "}\n",
       "#T_2c437_row0_col15 {\n",
       "  background-color: #f9f2f8;\n",
       "  color: #000000;\n",
       "}\n",
       "#T_2c437_row0_col18 {\n",
       "  background-color: #04598c;\n",
       "  color: #f1f1f1;\n",
       "}\n",
       "#T_2c437_row0_col19 {\n",
       "  background-color: #96b6d7;\n",
       "  color: #000000;\n",
       "}\n",
       "#T_2c437_row0_col20 {\n",
       "  background-color: #d0d1e6;\n",
       "  color: #000000;\n",
       "}\n",
       "#T_2c437_row1_col1, #T_2c437_row1_col9, #T_2c437_row1_col10, #T_2c437_row1_col11, #T_2c437_row1_col13 {\n",
       "  background-color: #dbdaeb;\n",
       "  color: #000000;\n",
       "}\n",
       "#T_2c437_row1_col2 {\n",
       "  background-color: #4295c3;\n",
       "  color: #f1f1f1;\n",
       "}\n",
       "#T_2c437_row1_col4 {\n",
       "  background-color: #187cb6;\n",
       "  color: #f1f1f1;\n",
       "}\n",
       "#T_2c437_row1_col6 {\n",
       "  background-color: #2c89bd;\n",
       "  color: #f1f1f1;\n",
       "}\n",
       "#T_2c437_row1_col7, #T_2c437_row1_col19 {\n",
       "  background-color: #0567a2;\n",
       "  color: #f1f1f1;\n",
       "}\n",
       "#T_2c437_row1_col8 {\n",
       "  background-color: #056faf;\n",
       "  color: #f1f1f1;\n",
       "}\n",
       "#T_2c437_row1_col14, #T_2c437_row1_col15 {\n",
       "  background-color: #afc1dd;\n",
       "  color: #000000;\n",
       "}\n",
       "#T_2c437_row1_col16 {\n",
       "  background-color: #5c9fc9;\n",
       "  color: #f1f1f1;\n",
       "}\n",
       "#T_2c437_row1_col18 {\n",
       "  background-color: #88b1d4;\n",
       "  color: #000000;\n",
       "}\n",
       "#T_2c437_row1_col20 {\n",
       "  background-color: #045382;\n",
       "  color: #f1f1f1;\n",
       "}\n",
       "#T_2c437_row2_col0 {\n",
       "  background-color: #dad9ea;\n",
       "  color: #000000;\n",
       "}\n",
       "#T_2c437_row2_col1 {\n",
       "  background-color: #034f7d;\n",
       "  color: #f1f1f1;\n",
       "}\n",
       "#T_2c437_row2_col2 {\n",
       "  background-color: #4897c4;\n",
       "  color: #f1f1f1;\n",
       "}\n",
       "#T_2c437_row2_col3 {\n",
       "  background-color: #167bb6;\n",
       "  color: #f1f1f1;\n",
       "}\n",
       "#T_2c437_row2_col4, #T_2c437_row2_col18 {\n",
       "  background-color: #d3d4e7;\n",
       "  color: #000000;\n",
       "}\n",
       "#T_2c437_row2_col7, #T_2c437_row2_col12 {\n",
       "  background-color: #e0deed;\n",
       "  color: #000000;\n",
       "}\n",
       "#T_2c437_row2_col9 {\n",
       "  background-color: #023f64;\n",
       "  color: #f1f1f1;\n",
       "}\n",
       "#T_2c437_row2_col10 {\n",
       "  background-color: #0568a3;\n",
       "  color: #f1f1f1;\n",
       "}\n",
       "#T_2c437_row2_col11 {\n",
       "  background-color: #2182b9;\n",
       "  color: #f1f1f1;\n",
       "}\n",
       "#T_2c437_row2_col13, #T_2c437_row2_col15 {\n",
       "  background-color: #04588a;\n",
       "  color: #f1f1f1;\n",
       "}\n",
       "#T_2c437_row2_col14 {\n",
       "  background-color: #034871;\n",
       "  color: #f1f1f1;\n",
       "}\n",
       "#T_2c437_row2_col16 {\n",
       "  background-color: #04639b;\n",
       "  color: #f1f1f1;\n",
       "}\n",
       "#T_2c437_row2_col17 {\n",
       "  background-color: #adc1dd;\n",
       "  color: #000000;\n",
       "}\n",
       "#T_2c437_row2_col19 {\n",
       "  background-color: #a4bcda;\n",
       "  color: #000000;\n",
       "}\n",
       "#T_2c437_row2_col20 {\n",
       "  background-color: #8cb3d5;\n",
       "  color: #000000;\n",
       "}\n",
       "</style>\n",
       "<table id=\"T_2c437_\">\n",
       "  <thead>\n",
       "    <tr>\n",
       "      <th class=\"blank level0\" >&nbsp;</th>\n",
       "      <th class=\"col_heading level0 col0\" >n_rs3188513</th>\n",
       "      <th class=\"col_heading level0 col1\" >n_rs9960669</th>\n",
       "      <th class=\"col_heading level0 col2\" >n_rs2602</th>\n",
       "      <th class=\"col_heading level0 col3\" >n_rs5445365</th>\n",
       "      <th class=\"col_heading level0 col4\" >n_rs133061</th>\n",
       "      <th class=\"col_heading level0 col5\" >n_rs10102851</th>\n",
       "      <th class=\"col_heading level0 col6\" >n_rs8375668</th>\n",
       "      <th class=\"col_heading level0 col7\" >n_rs3015353</th>\n",
       "      <th class=\"col_heading level0 col8\" >n_rs3229523</th>\n",
       "      <th class=\"col_heading level0 col9\" >n_rs6236416</th>\n",
       "      <th class=\"col_heading level0 col10\" >n_rs5274755</th>\n",
       "      <th class=\"col_heading level0 col11\" >n_rs9280789</th>\n",
       "      <th class=\"col_heading level0 col12\" >n_rs2515462</th>\n",
       "      <th class=\"col_heading level0 col13\" >n_rs9025039</th>\n",
       "      <th class=\"col_heading level0 col14\" >n_rs94282819</th>\n",
       "      <th class=\"col_heading level0 col15\" >n_rs344903</th>\n",
       "      <th class=\"col_heading level0 col16\" >n_rs0370</th>\n",
       "      <th class=\"col_heading level0 col17\" >n_rs9072249</th>\n",
       "      <th class=\"col_heading level0 col18\" >n_rs0220</th>\n",
       "      <th class=\"col_heading level0 col19\" >n_rs833068</th>\n",
       "      <th class=\"col_heading level0 col20\" >n_rs933069</th>\n",
       "    </tr>\n",
       "  </thead>\n",
       "  <tbody>\n",
       "    <tr>\n",
       "      <th id=\"T_2c437_level0_row0\" class=\"row_heading level0 row0\" >0</th>\n",
       "      <td id=\"T_2c437_row0_col0\" class=\"data row0 col0\" >27.000000</td>\n",
       "      <td id=\"T_2c437_row0_col1\" class=\"data row0 col1\" >9.000000</td>\n",
       "      <td id=\"T_2c437_row0_col2\" class=\"data row0 col2\" >12.000000</td>\n",
       "      <td id=\"T_2c437_row0_col3\" class=\"data row0 col3\" >10.000000</td>\n",
       "      <td id=\"T_2c437_row0_col4\" class=\"data row0 col4\" >22.000000</td>\n",
       "      <td id=\"T_2c437_row0_col5\" class=\"data row0 col5\" >10.000000</td>\n",
       "      <td id=\"T_2c437_row0_col6\" class=\"data row0 col6\" >28.000000</td>\n",
       "      <td id=\"T_2c437_row0_col7\" class=\"data row0 col7\" >21</td>\n",
       "      <td id=\"T_2c437_row0_col8\" class=\"data row0 col8\" >29.000000</td>\n",
       "      <td id=\"T_2c437_row0_col9\" class=\"data row0 col9\" >7.000000</td>\n",
       "      <td id=\"T_2c437_row0_col10\" class=\"data row0 col10\" >12</td>\n",
       "      <td id=\"T_2c437_row0_col11\" class=\"data row0 col11\" >17.000000</td>\n",
       "      <td id=\"T_2c437_row0_col12\" class=\"data row0 col12\" >28.000000</td>\n",
       "      <td id=\"T_2c437_row0_col13\" class=\"data row0 col13\" >10.000000</td>\n",
       "      <td id=\"T_2c437_row0_col14\" class=\"data row0 col14\" >5.000000</td>\n",
       "      <td id=\"T_2c437_row0_col15\" class=\"data row0 col15\" >6</td>\n",
       "      <td id=\"T_2c437_row0_col16\" class=\"data row0 col16\" >5.000000</td>\n",
       "      <td id=\"T_2c437_row0_col17\" class=\"data row0 col17\" >12.000000</td>\n",
       "      <td id=\"T_2c437_row0_col18\" class=\"data row0 col18\" >26</td>\n",
       "      <td id=\"T_2c437_row0_col19\" class=\"data row0 col19\" >15.000000</td>\n",
       "      <td id=\"T_2c437_row0_col20\" class=\"data row0 col20\" >11.000000</td>\n",
       "    </tr>\n",
       "    <tr>\n",
       "      <th id=\"T_2c437_level0_row1\" class=\"row_heading level0 row1\" >1</th>\n",
       "      <td id=\"T_2c437_row1_col0\" class=\"data row1 col0\" >14.000000</td>\n",
       "      <td id=\"T_2c437_row1_col1\" class=\"data row1 col1\" >8.000000</td>\n",
       "      <td id=\"T_2c437_row1_col2\" class=\"data row1 col2\" >16.000000</td>\n",
       "      <td id=\"T_2c437_row1_col3\" class=\"data row1 col3\" >14.000000</td>\n",
       "      <td id=\"T_2c437_row1_col4\" class=\"data row1 col4\" >18.000000</td>\n",
       "      <td id=\"T_2c437_row1_col5\" class=\"data row1 col5\" >4.000000</td>\n",
       "      <td id=\"T_2c437_row1_col6\" class=\"data row1 col6\" >17.000000</td>\n",
       "      <td id=\"T_2c437_row1_col7\" class=\"data row1 col7\" >20</td>\n",
       "      <td id=\"T_2c437_row1_col8\" class=\"data row1 col8\" >19.000000</td>\n",
       "      <td id=\"T_2c437_row1_col9\" class=\"data row1 col9\" >8.000000</td>\n",
       "      <td id=\"T_2c437_row1_col10\" class=\"data row1 col10\" >8</td>\n",
       "      <td id=\"T_2c437_row1_col11\" class=\"data row1 col11\" >8.000000</td>\n",
       "      <td id=\"T_2c437_row1_col12\" class=\"data row1 col12\" >14.000000</td>\n",
       "      <td id=\"T_2c437_row1_col13\" class=\"data row1 col13\" >8.000000</td>\n",
       "      <td id=\"T_2c437_row1_col14\" class=\"data row1 col14\" >11.000000</td>\n",
       "      <td id=\"T_2c437_row1_col15\" class=\"data row1 col15\" >11</td>\n",
       "      <td id=\"T_2c437_row1_col16\" class=\"data row1 col16\" >15.000000</td>\n",
       "      <td id=\"T_2c437_row1_col17\" class=\"data row1 col17\" >24.000000</td>\n",
       "      <td id=\"T_2c437_row1_col18\" class=\"data row1 col18\" >13</td>\n",
       "      <td id=\"T_2c437_row1_col19\" class=\"data row1 col19\" >20.000000</td>\n",
       "      <td id=\"T_2c437_row1_col20\" class=\"data row1 col20\" >22.000000</td>\n",
       "    </tr>\n",
       "    <tr>\n",
       "      <th id=\"T_2c437_level0_row2\" class=\"row_heading level0 row2\" >2</th>\n",
       "      <td id=\"T_2c437_row2_col0\" class=\"data row2 col0\" >12.000000</td>\n",
       "      <td id=\"T_2c437_row2_col1\" class=\"data row2 col1\" >36.000000</td>\n",
       "      <td id=\"T_2c437_row2_col2\" class=\"data row2 col2\" >25.000000</td>\n",
       "      <td id=\"T_2c437_row2_col3\" class=\"data row2 col3\" >29.000000</td>\n",
       "      <td id=\"T_2c437_row2_col4\" class=\"data row2 col4\" >13.000000</td>\n",
       "      <td id=\"T_2c437_row2_col5\" class=\"data row2 col5\" >39.000000</td>\n",
       "      <td id=\"T_2c437_row2_col6\" class=\"data row2 col6\" >8.000000</td>\n",
       "      <td id=\"T_2c437_row2_col7\" class=\"data row2 col7\" >11</td>\n",
       "      <td id=\"T_2c437_row2_col8\" class=\"data row2 col8\" >5.000000</td>\n",
       "      <td id=\"T_2c437_row2_col9\" class=\"data row2 col9\" >38.000000</td>\n",
       "      <td id=\"T_2c437_row2_col10\" class=\"data row2 col10\" >32</td>\n",
       "      <td id=\"T_2c437_row2_col11\" class=\"data row2 col11\" >28.000000</td>\n",
       "      <td id=\"T_2c437_row2_col12\" class=\"data row2 col12\" >11.000000</td>\n",
       "      <td id=\"T_2c437_row2_col13\" class=\"data row2 col13\" >35.000000</td>\n",
       "      <td id=\"T_2c437_row2_col14\" class=\"data row2 col14\" >37.000000</td>\n",
       "      <td id=\"T_2c437_row2_col15\" class=\"data row2 col15\" >35</td>\n",
       "      <td id=\"T_2c437_row2_col16\" class=\"data row2 col16\" >33.000000</td>\n",
       "      <td id=\"T_2c437_row2_col17\" class=\"data row2 col17\" >17.000000</td>\n",
       "      <td id=\"T_2c437_row2_col18\" class=\"data row2 col18\" >13</td>\n",
       "      <td id=\"T_2c437_row2_col19\" class=\"data row2 col19\" >18.000000</td>\n",
       "      <td id=\"T_2c437_row2_col20\" class=\"data row2 col20\" >20.000000</td>\n",
       "    </tr>\n",
       "    <tr>\n",
       "      <th id=\"T_2c437_level0_row3\" class=\"row_heading level0 row3\" >3</th>\n",
       "      <td id=\"T_2c437_row3_col0\" class=\"data row3 col0\" >nan</td>\n",
       "      <td id=\"T_2c437_row3_col1\" class=\"data row3 col1\" >nan</td>\n",
       "      <td id=\"T_2c437_row3_col2\" class=\"data row3 col2\" >nan</td>\n",
       "      <td id=\"T_2c437_row3_col3\" class=\"data row3 col3\" >nan</td>\n",
       "      <td id=\"T_2c437_row3_col4\" class=\"data row3 col4\" >nan</td>\n",
       "      <td id=\"T_2c437_row3_col5\" class=\"data row3 col5\" >nan</td>\n",
       "      <td id=\"T_2c437_row3_col6\" class=\"data row3 col6\" >nan</td>\n",
       "      <td id=\"T_2c437_row3_col7\" class=\"data row3 col7\" >1</td>\n",
       "      <td id=\"T_2c437_row3_col8\" class=\"data row3 col8\" >nan</td>\n",
       "      <td id=\"T_2c437_row3_col9\" class=\"data row3 col9\" >nan</td>\n",
       "      <td id=\"T_2c437_row3_col10\" class=\"data row3 col10\" >1</td>\n",
       "      <td id=\"T_2c437_row3_col11\" class=\"data row3 col11\" >nan</td>\n",
       "      <td id=\"T_2c437_row3_col12\" class=\"data row3 col12\" >nan</td>\n",
       "      <td id=\"T_2c437_row3_col13\" class=\"data row3 col13\" >nan</td>\n",
       "      <td id=\"T_2c437_row3_col14\" class=\"data row3 col14\" >nan</td>\n",
       "      <td id=\"T_2c437_row3_col15\" class=\"data row3 col15\" >1</td>\n",
       "      <td id=\"T_2c437_row3_col16\" class=\"data row3 col16\" >nan</td>\n",
       "      <td id=\"T_2c437_row3_col17\" class=\"data row3 col17\" >nan</td>\n",
       "      <td id=\"T_2c437_row3_col18\" class=\"data row3 col18\" >1</td>\n",
       "      <td id=\"T_2c437_row3_col19\" class=\"data row3 col19\" >nan</td>\n",
       "      <td id=\"T_2c437_row3_col20\" class=\"data row3 col20\" >nan</td>\n",
       "    </tr>\n",
       "  </tbody>\n",
       "</table>\n"
      ],
      "text/plain": [
       "<pandas.io.formats.style.Styler at 0x23d75865d30>"
      ]
     },
     "execution_count": 7,
     "metadata": {},
     "output_type": "execute_result"
    }
   ],
   "source": [
    "# SNP descriptor type frequency data\n",
    "df[df.columns[1:]].apply(pd.Series.value_counts).style.background_gradient(cmap ='PuBu', axis=1)"
   ]
  },
  {
   "cell_type": "markdown",
   "metadata": {},
   "source": [
    "It is important to note that each gene locus can have different SNP overrepresented types associated to it. The least represented type is the encoded (3) value with a total of 4 values in the dataset. *These values correspond to **MM** SNP types, which are types that have homozigous mutations and can be more detrimental to patients, thereby being underrepresented*"
   ]
  },
  {
   "cell_type": "markdown",
   "metadata": {},
   "source": [
    "#### Prior visualization of SNPs per label group"
   ]
  },
  {
   "cell_type": "code",
   "execution_count": 8,
   "metadata": {},
   "outputs": [
    {
     "data": {
      "image/png": "[encoded data removed]",
      "text/plain": [
       "<Figure size 432x288 with 3 Axes>"
      ]
     },
     "metadata": {
      "needs_background": "light"
     },
     "output_type": "display_data"
    }
   ],
   "source": [
    "fig, (ax1, ax2) = plt.subplots(nrows=1, ncols=2, constrained_layout=True)\n",
    "\n",
    "\n",
    "sns.heatmap(df[df['Target'] == 'R'][df.columns[1:]], cbar=False, yticklabels=[], ax=ax1, cmap='PuBu')\n",
    "ax1.set_title(\"Responsive Patient SNP\")\n",
    "\n",
    "\n",
    "sns.heatmap(df[df['Target'] == 'NR'][df.columns[1:]], yticklabels=[], ax=ax2, cmap='PuBu')\n",
    "ax2.set_title(\"NonResponsive Patient SNP\")\n",
    "\n",
    "#Get the colorbar object from the Seaborn heatmap\n",
    "colorbar = ax2.collections[0].colorbar\n",
    "# The list comprehension calculates the positions to place the labels to be evenly distributed across the colorbar\n",
    "r = colorbar.vmax \n",
    "colorbar.set_ticks([colorbar.vmin + 0.5 * r / (4) + r * i / (4) for i in range(4)])\n",
    "colorbar.set_ticklabels([0,1,2,3])\n",
    "\n",
    "plt.show()"
   ]
  },
  {
   "cell_type": "markdown",
   "metadata": {},
   "source": [
    "Intuitively, it seems that just as expected, generally mutation SNP types will more represented in Non-Responsive CRC patients."
   ]
  },
  {
   "cell_type": "markdown",
   "metadata": {},
   "source": [
    "#### Correlation visualization"
   ]
  },
  {
   "cell_type": "markdown",
   "metadata": {},
   "source": [
    "We do not have information about the position of the SNPs in the genome, but it is known that the closer the mutation locus are from one another, the more correlated the polymorphisms will be with each other.\n",
    "\n",
    "In this way, performing correlation analysis and visualizing it per SNP column will be insightfull if it proves to be informative and we leverage this information for training"
   ]
  },
  {
   "cell_type": "code",
   "execution_count": 9,
   "metadata": {},
   "outputs": [
    {
     "data": {
      "text/plain": [
       "<AxesSubplot:>"
      ]
     },
     "execution_count": 9,
     "metadata": {},
     "output_type": "execute_result"
    },
    {
     "data": {
      "image/png": "[encoded data removed]",
      "text/plain": [
       "<Figure size 432x288 with 2 Axes>"
      ]
     },
     "metadata": {
      "needs_background": "light"
     },
     "output_type": "display_data"
    }
   ],
   "source": [
    "sns.heatmap(df[df.columns[1:]].corr())"
   ]
  },
  {
   "cell_type": "markdown",
   "metadata": {},
   "source": [
    "It seems that correlation is not extensively present among different SNP in the dataset, so no feature selection process or correlation information will be leveraged for training. In spite of this, there can be underlying correlation patterns that affect the data structure but are unnoticeable."
   ]
  },
  {
   "cell_type": "markdown",
   "metadata": {},
   "source": [
    "## 1.2. Data preprocessing\n",
    "    In this stage we will focus on encoding and reformating the data present in the pandas `DataFrame` to make it leveragable for the training process\n",
    "    \n",
    "This implies preprocessing data in two ways:\n",
    "1. The **label `Target`** conforms two qualitative types that can be encoded as a binary variable. Calling `le.classes_` returns the order of the qualitative types used to encode them into `0` and `1` classes, respectively\n",
    "2. The **SNP encoded data** has a simple numerical encoding that can however bias the training, as it will not treat all categorical variables equally for training. This is because it will take different distances from their numerical values per categorical type. In this case a `OneHotEncoding` is more suitable for analysis, and can be achieved with `get_dummies` pandas function specific to each columns"
   ]
  },
  {
   "cell_type": "code",
   "execution_count": 10,
   "metadata": {},
   "outputs": [],
   "source": [
    "X = df.drop('Target', axis=1)\n",
    "X = pd.get_dummies(X, drop_first=True, columns=X.columns)\n",
    "X=X.to_numpy()"
   ]
  },
  {
   "cell_type": "code",
   "execution_count": 11,
   "metadata": {},
   "outputs": [],
   "source": [
    "y = df['Target'].to_numpy()\n",
    "le = LabelEncoder()\n",
    "y = le.fit_transform(y)"
   ]
  },
  {
   "cell_type": "markdown",
   "metadata": {},
   "source": [
    "## 1.3. Data splitting\n",
    "    In this stage we will focus on splitting train and test data with a 80/20 proportion, as it is a small dataset we are handling.\n",
    "\n",
    "Later on we will split the train subset into train and validation when performing crossvalidation in training.\n",
    "\n",
    "It is important to subset this data randomly to get representative portions for training and testing the model. \n",
    "\n",
    "Despite the randomness of the Train-Test splitting, the `random_state`variable fixed with a random seed will result in this being a more reproducible process."
   ]
  },
  {
   "cell_type": "code",
   "execution_count": 12,
   "metadata": {},
   "outputs": [],
   "source": [
    "# Split train and test using sklearn.model_selection.train_test_split function\n",
    "XTrain, XTest, yTrain, yTest = train_test_split(X, y, \n",
    "                                                test_size=0.20, \n",
    "                                                random_state=np.random.randint(0,40))"
   ]
  },
  {
   "cell_type": "markdown",
   "metadata": {},
   "source": [
    "<a id='#ML'></a>"
   ]
  },
  {
   "cell_type": "markdown",
   "metadata": {
    "tags": []
   },
   "source": [
    "---\n",
    "# 2. Model training"
   ]
  },
  {
   "cell_type": "markdown",
   "metadata": {},
   "source": [
    "    This is the stage where we optimize the training and assess the final model metrics for the trained model with the testing data. We will perform training with a K-Nearest Neighbors Classifier, a Decision Tree Classifier, a Random Tree Classifier, a MultiLayerPerceptron Classifier, and a Logistic Regression\n",
    "\n",
    "##### Hyperparameter tuning through cross-validation evaluation metrics scorings\n",
    "\n",
    "These steps of training will be performed with a **prior hyperparameters tuning thorugh crossvalidation** for model optimization. Choosing the correct evaluation metric as a scoring method is of great importance for crossvalidation and the grid search, as it decides how one should put value in the predictions from the training model. For the purpose of training for our problem, ideally, we will want our model to reduce type error I  (FP) as well as type error II (FN) in prediction of responsiveness, arguing that it is as important to identify subjects that will not have response than those that will have response, as the treatment chemotherapies are aggressive and expensive.\n",
    "\n",
    "* One scoring function that takes into account the amount of correct predictions it has made in comparison with the total values in the dataset is the **accuracy metric**:\n",
    "\n",
    "$$Accuracy = \\frac{TP + TN }{Total}$$\n",
    "\n",
    "* Another method that could be taken into account would be **\"F1\" score**, the harmonic mean between precision and recall. This scoring function takes into account recall values that measure how many True positives TP the training model is taking from the total amount of positives in the dataset (TP+FN), and the precision value that takes into account how many TP are detected from the positives predicted by the model (TP+FP).\n",
    "\n",
    "$$F1 = 2 * \\frac{precision · recall} {precision + recall}$$\n",
    "\n",
    "Finally, due to the characteristics of the problem, where it is as much of a  priority to identify the subjects that will have a response to treat them accordingly, as it is to identify those that will not have a response and take up resources and risk of side-effects, **we will choose the `F1 metric`.**\n",
    "\n",
    "#### GridsearchCV\n",
    "\n",
    "The **train data splitting** into validation and training subsets is **performed by the GridCVSearch** where it chooses the best model with the best hyperparameters with a prior specification of how the training data will be split. In this case, we use the theoretical endorsed rule and **we opt for a 10 K-fold** crossvalidation as we have a training subset that is small enough. The data split is therefore done in same size partitions with different validation data subsets, having the advantage over random selection that it ensures that all cases are used for both training and validation. We can later evaluate the optimized model with metrics for the crossvalidation where we can see if the validation set accuracy/f1,... accuracy metrics and their average or weighed average per k-fold of training performed for the model. They are useful to see if the crossvalidation has not been hindered and uses the correct amount and splitting of data.\n",
    "\n",
    "After selecting the best predicted model with the best hyperparameters, we can evaluate the final optimized model with the Testing data\n",
    "\n",
    "## 2.1. K- Nearest Neighbors Classifier\n",
    "\n",
    "It is important to specify the hyperparameters we want to optimize for model training (In this case we will work with distance metric and K number). \n",
    "\n",
    "The K neighbor number that will be considered will range from 1 to 21 values.\n",
    "\n",
    "The distance metrics considered are `euclidean`, `cosine` and `manhattan` distances. They bring different criterions to establish distance between points for the instances, particularly euclidean distances measure the straight line distance between two points in a plane and will focus more on the magnitude of the attributes than cosine distance, which will measure the angle two points will make from a reference point and focus more in the simmilarities among data points regardless of magnitude. Manhattan distances compute distances between points following a grid-like trajectory, and are recommended for data with high dimensionality, as their distance values will be higher and will not be buffered by the curse of dimensionality problem.\n",
    "\n",
    "Hamming distance are not considered as they are used to compare two binary data strings and this distance would not be representative with the type of encoding used for the feature data. In other words, it will not always infer proper simmilarities between strings because simmilarities across SNP type features are done for every 3 new attributes after OneHotEncoding, and not for every element in the string as this method assumes."
   ]
  },
  {
   "cell_type": "code",
   "execution_count": 13,
   "metadata": {},
   "outputs": [
    {
     "name": "stdout",
     "output_type": "stream",
     "text": [
      "Cross-Validation classification metrics: \n",
      "-------------------------\n",
      "F1 SCORE \n",
      " [0.8, 0.6666666666666666, 1.0, 1.0, 1.0, 1.0, 0.5, 0.8, 1.0, 0.8]\n",
      "Mean Validation Classification F1:  0.8566666666666667\n",
      "\n",
      "ACCURACY\n",
      " [0.8, 0.6, 1.0, 1.0, 1.0, 1.0, 0.5, 0.75, 1.0, 0.75]\n",
      "Mean Validation Classification Accuracy:  0.8400000000000001 \n",
      "\n",
      "---------------- BEST MODEL HYPERPARAMETERS ------------------\n",
      "Best estimator found by grid search:\n",
      "KNeighborsClassifier(metric='euclidean', n_neighbors=12)\n",
      "Best K: 12\n",
      "Best distance metric :  euclidean\n",
      "\n",
      "\t Train accuracy:  0.8809523809523809\n",
      "\t Test accuracy:  0.8181818181818182\n",
      "\t Test Error:  0.18181818181818182 \n",
      "\n",
      "              precision    recall  f1-score   support\n",
      "\n",
      "           0       0.75      0.75      0.75         4\n",
      "           1       0.86      0.86      0.86         7\n",
      "\n",
      "    accuracy                           0.82        11\n",
      "   macro avg       0.80      0.80      0.80        11\n",
      "weighted avg       0.82      0.82      0.82        11\n",
      "\n",
      "----------------Test Confusion Matrix------------------\n"
     ]
    },
    {
     "data": {
      "text/plain": [
       "<sklearn.metrics._plot.confusion_matrix.ConfusionMatrixDisplay at 0x23d7be09e10>"
      ]
     },
     "execution_count": 13,
     "metadata": {},
     "output_type": "execute_result"
    },
    {
     "data": {
      "image/png": "[encoded data removed]",
      "text/plain": [
       "<Figure size 432x288 with 2 Axes>"
      ]
     },
     "metadata": {
      "needs_background": "light"
     },
     "output_type": "display_data"
    }
   ],
   "source": [
    "# Define the parameters grid to tune for model optimization\n",
    "\n",
    "k_range = list(range(1, 21))\n",
    "param_grid = {'n_neighbors': k_range, \n",
    "              'metric':['euclidean',\n",
    "                        'cosine', \n",
    "                        'manhattan']}\n",
    "\n",
    "# instantiate the classifier model object\n",
    "knn = neighbors.KNeighborsClassifier()\n",
    "\n",
    "# defining parameter range\n",
    "clf = GridSearchCV(knn, param_grid, cv=10, scoring='f1')\n",
    "clf.fit(XTrain,yTrain)\n",
    "\n",
    "#Obtain in the variable model the best Decision Tree classifier\n",
    "knn_finalmodel = clf.best_estimator_\n",
    "\n",
    "\n",
    "# ---------------Cross-validation\n",
    "\n",
    "# Calculate the Cross-validation error during the training step\n",
    "scores = cross_validate(knn_finalmodel, XTrain, yTrain, cv=10, scoring=['f1', 'accuracy'])\n",
    "\n",
    "knn_meanF1 = np.mean(scores['test_f1'])\n",
    "knn_meanAcc = np.mean(scores['test_accuracy'])\n",
    "\n",
    "\n",
    "print('Cross-Validation classification metrics: \\n-------------------------')\n",
    "print(\"F1 SCORE \\n\", scores['test_f1'].tolist())\n",
    "print('Mean Validation Classification F1: ', knn_meanF1)\n",
    "print(\"\\nACCURACY\\n\", scores['test_accuracy'].tolist())\n",
    "print('Mean Validation Classification Accuracy: ', knn_meanAcc, \"\\n\")\n",
    "\n",
    "\n",
    "\n",
    "#----------------Training with the best model\n",
    "\n",
    "# Obtain the best k and calculate results on test set\n",
    "k = clf.best_params_['n_neighbors']\n",
    "met = clf.best_params_['metric']\n",
    "\n",
    "# Instantiate model with the best parameters and train with final Training data\n",
    "knn_finalmodel = neighbors.KNeighborsClassifier(n_neighbors = k, metric=met)\n",
    "knn_finalmodel.fit(XTrain , yTrain)\n",
    "\n",
    "\n",
    "#----------------Computing evaluation metrics\n",
    "\n",
    "#This counters are used to obtain the accuracy \"by hand\"\n",
    "contTrain = 0\n",
    "contTest = 0\n",
    "\n",
    "# Compute the TRAIN prediction according to the model\n",
    "yhatTrain = knn_finalmodel.predict(XTrain)\n",
    "\n",
    "# Check the result on the train examples\n",
    "#print('Predicted value : ' + str(yhat) , ', real target : ' + str(yTrain))\n",
    "for i in range(0,len(yTrain),1) :\n",
    "    if (yhatTrain[i] == yTrain[i]):\n",
    "        contTrain = contTrain + 1\n",
    "        \n",
    "\n",
    "# Compute the TEST prediction according to the model\n",
    "yhatTest = knn_finalmodel.predict(XTest)\n",
    "\n",
    "# Check the result on the test examples\n",
    "#print('Predicted value : ' + str(yhat) , ', real target : ' + str(yTest))\n",
    "for i in range(0,len(yTest),1) :\n",
    "    if (yhatTest[i] == yTest[i]):\n",
    "        contTest = contTest + 1\n",
    "        \n",
    "        \n",
    "# Save it in variables for later model assessment\n",
    "knn_TrainAcc = contTrain/len(yTrain)\n",
    "knn_TestAcc = contTest/len(yTest)\n",
    "knn_TestErr = np.mean(yhatTest != yTest)\n",
    "\n",
    "dictReport = classification_report(yTest,yhatTest, output_dict=True)\n",
    "knn_precision_per_label = [dictReport['0']['precision'], dictReport['1']['precision']]\n",
    "knn_recall_per_label = [dictReport['0']['recall'], dictReport['1']['recall']]\n",
    "knn_support_per_label = [dictReport['0']['support'], dictReport['1']['support']]\n",
    "knn_wF1= dictReport['weighted avg']['f1-score']\n",
    "knn_wprecision= dictReport['weighted avg']['precision']\n",
    "knn_wrecall= dictReport['weighted avg']['recall']\n",
    "\n",
    "# Rest of reported evaluation metrics taken from sklearn.classification report \n",
    "\n",
    "knn_fm_evaluation = {'Val_avgF1' : knn_meanF1, \n",
    "                     'Val_avgAcc' : knn_meanAcc, \n",
    "                     'Best_param' : [k, met], \n",
    "                     \"Train_Acc\": knn_TrainAcc, \n",
    "                     \"Test_Acc\": knn_TestAcc,\n",
    "                     \"Test_Weighted_F1\" : knn_wF1,\n",
    "                    \"Test_Weighted_precision\": knn_wprecision, \n",
    "                    \"Test_Weighted_recall\": knn_wrecall, \n",
    "                    \"Label_support\" : knn_support_per_label,\n",
    "                    \"Precision_perLabel\" : knn_precision_per_label,\n",
    "                     \"Recall_perLabel\": knn_recall_per_label}\n",
    "\n",
    "\n",
    "        \n",
    "print(\"---------------- BEST MODEL HYPERPARAMETERS ------------------\")\n",
    "print(\"Best estimator found by grid search:\")\n",
    "print(knn_finalmodel)\n",
    "print('Best K:', k)\n",
    "print('Best distance metric : ', met)\n",
    "print('\\n\\t Train accuracy: ', knn_TrainAcc)\n",
    "print('\\t Test accuracy: ', knn_TestAcc)\n",
    "print('\\t Test Error: ', knn_TestErr, \"\\n\")\n",
    "print(classification_report(yTest,yhatTest))\n",
    "                     \n",
    "#Print test confusion matrix\n",
    "print('----------------Test Confusion Matrix------------------')\n",
    "confmat_knn = confusion_matrix(yTest,yhatTest)\n",
    "disp = ConfusionMatrixDisplay(confusion_matrix=confmat_knn,display_labels=le.classes_)\n",
    "disp.plot()\n",
    "\n",
    "\n",
    "\n",
    "    "
   ]
  },
  {
   "cell_type": "markdown",
   "metadata": {},
   "source": [
    "The model prediction error outcome for a range of parameters can be supervised in many ways ( fetching errors for crossvalidation metrics for each model trained for each parameter grid point as done before, or in this case, plotting the validation errors with the increase of a parameter through plots). In this case, Cross validation metrics are lower than the training subset accuracy likely because of the small train subset used at the expense of a larger test subset that is more representative for the evaluation of the final model. It seems that model test prediction accuracy and f1 metrics are substantial and the final model is considered suitable for performing predictions of responsiveness in SNP patients. One must be cautious however when making this affirmations, as we are performing the predictions on a small test subset that may not represent the rest of the dataset. Widening the test sampling also comes at the expense of performing a less valid cross-validation, as this practice leaves less room for training. Another remark about our training is that the dataset used for it is scarce, and perhaps performing cross-validation for a higher number of data partitions is also a room of improvement."
   ]
  },
  {
   "cell_type": "markdown",
   "metadata": {},
   "source": [
    "## 2.2. Decision tree classifier (DTC)"
   ]
  },
  {
   "cell_type": "markdown",
   "metadata": {},
   "source": [
    "The hyperparameters chosen to change the training model are the minimum samples each leaf (final node) can have, the depth of the tree which affects overfitting (as the depth increases it will take into account the min leaf number of samples to end the tree), the minimum splitting sample number to avoid splitting errors, and the criteria of measurement of information gain to measure the quality of the split.\n"
   ]
  },
  {
   "cell_type": "code",
   "execution_count": 14,
   "metadata": {},
   "outputs": [
    {
     "name": "stdout",
     "output_type": "stream",
     "text": [
      "Cross-Validation classification metrics: \n",
      "-------------------------\n",
      "F1 SCORE \n",
      " [0.6666666666666666, 0.8571428571428571, 0.8, 0.5, 0.8, 1.0, 0.5, 0.8, 0.8, 1.0]\n",
      "Mean Validation Classification F1:  0.7723809523809524\n",
      "\n",
      "ACCURACY\n",
      " [0.6, 0.8, 0.75, 0.5, 0.75, 1.0, 0.5, 0.75, 0.75, 1.0]\n",
      "Mean Validation Classification Accuracy:  0.74 \n",
      "\n",
      "---------------- BEST MODEL HYPERPARAMETERS ------------------\n",
      "Best estimator found by grid search:\n",
      "DecisionTreeClassifier(max_depth=5, min_samples_leaf=2, min_samples_split=10,\n",
      "                       random_state=0)\n",
      "Best Params (min leaf samples, min split samples, depth, crit): (2, 10, 5, 'gini')\n",
      "\n",
      "\t Train accuracy:  0.9047619047619048\n",
      "\t Test accuracy:  0.7272727272727273\n",
      "\t Test Error:  0.2727272727272727 \n",
      "\n",
      "              precision    recall  f1-score   support\n",
      "\n",
      "           0       0.60      0.75      0.67         4\n",
      "           1       0.83      0.71      0.77         7\n",
      "\n",
      "    accuracy                           0.73        11\n",
      "   macro avg       0.72      0.73      0.72        11\n",
      "weighted avg       0.75      0.73      0.73        11\n",
      "\n",
      "----------------Test Confusion Matrix------------------\n"
     ]
    },
    {
     "data": {
      "text/plain": [
       "<sklearn.metrics._plot.confusion_matrix.ConfusionMatrixDisplay at 0x23d7bb75d68>"
      ]
     },
     "execution_count": 14,
     "metadata": {},
     "output_type": "execute_result"
    },
    {
     "data": {
      "image/png": "[encoded data removed]",
      "text/plain": [
       "<Figure size 432x288 with 2 Axes>"
      ]
     },
     "metadata": {
      "needs_background": "light"
     },
     "output_type": "display_data"
    }
   ],
   "source": [
    "#Define parameters of the decision tree to be checked with cross-validation\n",
    "param_grid = {'min_samples_leaf': [2, 5, 10],\n",
    "              'min_samples_split': [2, 5, 10],\n",
    "              'max_depth':[2, 5, 10, 100],\n",
    "              'criterion':['entropy','gini']}\n",
    "\n",
    "dtc=DecisionTreeClassifier(random_state=0)\n",
    "# Create a gridsearch using the Decision Tree Classifier\n",
    "clf = GridSearchCV(dtc, param_grid, cv=10, scoring='f1')\n",
    "\n",
    "# Train the classifier using training dataset\n",
    "clf.fit(XTrain , yTrain)\n",
    "\n",
    "\n",
    "dtc_finalmodel = clf.best_estimator_\n",
    "\n",
    "# ---------------Cross-validation\n",
    "\n",
    "# Calculate the Cross-validation error during the training step\n",
    "scores = cross_validate(dtc_finalmodel, XTrain, yTrain, cv=10, scoring=['f1', 'accuracy'])\n",
    "\n",
    "dtc_meanF1 = np.mean(scores['test_f1'])\n",
    "dtc_meanAcc = np.mean(scores['test_accuracy'])\n",
    "\n",
    "\n",
    "print('Cross-Validation classification metrics: \\n-------------------------')\n",
    "print(\"F1 SCORE \\n\", scores['test_f1'].tolist())\n",
    "print('Mean Validation Classification F1: ', dtc_meanF1)\n",
    "print(\"\\nACCURACY\\n\", scores['test_accuracy'].tolist())\n",
    "print('Mean Validation Classification Accuracy: ', dtc_meanAcc, \"\\n\")\n",
    "\n",
    "\n",
    "#----------------Training with the best model\n",
    "\n",
    "# Obtain the best k and calculate results on test set\n",
    "sleaf = clf.best_params_['min_samples_leaf']\n",
    "ssplit = clf.best_params_['min_samples_split']\n",
    "depth = clf.best_params_['max_depth']\n",
    "crit = clf.best_params_['criterion']\n",
    "\n",
    "\n",
    "dtc_finalmodel = dtc_finalmodel.fit(XTrain, yTrain)\n",
    "\n",
    "#----------------Computing evaluation metrics\n",
    "\n",
    "\n",
    "#This counters are used to obtain the accuracy \"by hand\"\n",
    "contTrain = 0\n",
    "contTest = 0\n",
    "\n",
    "# Compute the train prediction according to the model\n",
    "yhatTrain = dtc_finalmodel.predict(XTrain)\n",
    "\n",
    "# Check the result on the train examples\n",
    "#print('Predicted value : ' + str(yhat) , ', real target : ' + str(yTrain))\n",
    "for i in range(0,len(yTrain),1) :\n",
    "    if (yhatTrain[i] == yTrain[i]):\n",
    "        contTrain = contTrain + 1\n",
    "\n",
    "# Compute the test prediction according to the model\n",
    "yhatTest = dtc_finalmodel.predict(XTest)\n",
    "\n",
    "# Check the result on the test examples\n",
    "#print('Predictedvalue : ' + str(yhat) , ', real target : ' + str(yTest))\n",
    "for i in range(0,len(yTest),1) :\n",
    "    if (yhatTest[i] == yTest[i]):\n",
    "        contTest = contTest + 1\n",
    "     \n",
    "        \n",
    "# Save it in variables for later model assessment\n",
    "dtc_TrainAcc = contTrain/len(yTrain)\n",
    "dtc_TestAcc = contTest/len(yTest)\n",
    "dtc_TestErr = np.mean(yhatTest != yTest)\n",
    "\n",
    "dictReport = classification_report(yTest,yhatTest, output_dict=True)\n",
    "dtc_precision_per_label = [dictReport['0']['precision'], dictReport['1']['precision']]\n",
    "dtc_recall_per_label = [dictReport['0']['recall'], dictReport['1']['recall']]\n",
    "dtc_support_per_label = [dictReport['0']['support'], dictReport['1']['support']]\n",
    "dtc_wF1= dictReport['weighted avg']['f1-score']\n",
    "dtc_wprecision= dictReport['weighted avg']['precision']\n",
    "dtc_wrecall= dictReport['weighted avg']['recall']\n",
    "\n",
    "# Rest of reported evaluation metrics taken from sklearn.classification report \n",
    "\n",
    "dtc_fm_evaluation = {'Val_avgF1' : dtc_meanF1, \n",
    "                     'Val_avgAcc' : dtc_meanAcc, \n",
    "                     'Best_param' : [sleaf, ssplit, depth, crit], \n",
    "                     \"Train_Acc\": dtc_TrainAcc, \n",
    "                     \"Test_Acc\": dtc_TestAcc,\n",
    "                     \"Test_Weighted_F1\" : dtc_wF1,\n",
    "                    \"Test_Weighted_precision\": dtc_wprecision, \n",
    "                    \"Test_Weighted_recall\": dtc_wrecall, \n",
    "                    \"Label_support\" : dtc_support_per_label,\n",
    "                    \"Precision_perLabel\" : dtc_precision_per_label,\n",
    "                     \"Recall_perLabel\": dtc_recall_per_label}\n",
    "\n",
    "\n",
    "        \n",
    "print(\"---------------- BEST MODEL HYPERPARAMETERS ------------------\")\n",
    "print(\"Best estimator found by grid search:\")\n",
    "print(dtc_finalmodel)\n",
    "print('Best Params (min leaf samples, min split samples, depth, crit):', (sleaf, ssplit, depth, crit))\n",
    "print('\\n\\t Train accuracy: ', dtc_TrainAcc)\n",
    "print('\\t Test accuracy: ', dtc_TestAcc)\n",
    "print('\\t Test Error: ', dtc_TestErr, \"\\n\")\n",
    "print(classification_report(yTest,yhatTest))\n",
    "                     \n",
    "#Print test confusion matrix\n",
    "print('----------------Test Confusion Matrix------------------')\n",
    "confmat_dtc = confusion_matrix(yTest,yhatTest)\n",
    "disp = ConfusionMatrixDisplay(confusion_matrix=confmat_dtc,display_labels=le.classes_)\n",
    "disp.plot()\n"
   ]
  },
  {
   "cell_type": "markdown",
   "metadata": {},
   "source": [
    "Precision, Recall, F1 and accuracy metrics are lower than the last model.\n",
    "The decision tree can be interpretable as a set of rules. These can be seen graphically in a tree structure."
   ]
  },
  {
   "cell_type": "code",
   "execution_count": 15,
   "metadata": {},
   "outputs": [
    {
     "data": {
      "image/png": "[encoded data removed]",
      "text/plain": [
       "<IPython.core.display.Image object>"
      ]
     },
     "execution_count": 15,
     "metadata": {
      "image/png": {
       "width": "700"
      }
     },
     "output_type": "execute_result"
    }
   ],
   "source": [
    "dot_data = export_graphviz(dtc_finalmodel)\n",
    "graph = graph_from_dot_data(dot_data)\n",
    "graph.write_png('./tree_dtc_Dataset9.png')\n",
    "display.Image(\"./tree_dtc_Dataset9.png\", width=\"700\")"
   ]
  },
  {
   "cell_type": "markdown",
   "metadata": {},
   "source": [
    "As a future improvement, a pruning can be undertaken for the tree as there are values in the first splitting that have a low gini splitting quality measurement"
   ]
  },
  {
   "cell_type": "markdown",
   "metadata": {},
   "source": [
    "## 2.3. Random Forest Classifier (RFC)\n",
    "\n",
    "A supervised ML  that incorporates random components-subsets of a training set. Its algorythm implies creating a forest of many trees (500 by default), sampling with replacement for each tree a subset and training different classifier with each subsets, then for each node it selects m features independent for each tree and takes them into account for a selection of the best models with those features. After this, it combines the the trees from all these components and predicts the classification for new data with a majority vote or average weighed vote.\n",
    "\n",
    "This random subsetting method has the advantage over Decision Tree Classifiers that it avoids overfitting in a larger extent with the negative side that they are more computationally costly and less interpretable."
   ]
  },
  {
   "cell_type": "code",
   "execution_count": 16,
   "metadata": {},
   "outputs": [
    {
     "name": "stdout",
     "output_type": "stream",
     "text": [
      "Cross-Validation classification metrics: \n",
      "-------------------------\n",
      "F1 SCORE \n",
      " [0.6666666666666666, 0.5714285714285715, 1.0, 0.8, 1.0, 1.0, 0.4, 0.8, 0.8, 1.0]\n",
      "Mean Validation Classification F1:  0.8038095238095238\n",
      "\n",
      "ACCURACY\n",
      " [0.6, 0.4, 1.0, 0.75, 1.0, 1.0, 0.25, 0.75, 0.75, 1.0]\n",
      "Mean Validation Classification Accuracy:  0.75 \n",
      "\n",
      "---------------- BEST MODEL HYPERPARAMETERS ------------------\n",
      "Best estimator found by grid search:\n",
      "RandomForestClassifier(bootstrap='false', max_depth=2, min_samples_leaf=5,\n",
      "                       random_state=0)\n",
      "Best Params (min leaf samples, min split samples, depth): (5, 2, 2)\n",
      "\n",
      "\t Train accuracy:  0.8809523809523809\n",
      "\t Test accuracy:  0.7272727272727273\n",
      "\t Test Error:  0.2727272727272727 \n",
      "\n",
      "              precision    recall  f1-score   support\n",
      "\n",
      "           0       0.67      0.50      0.57         4\n",
      "           1       0.75      0.86      0.80         7\n",
      "\n",
      "    accuracy                           0.73        11\n",
      "   macro avg       0.71      0.68      0.69        11\n",
      "weighted avg       0.72      0.73      0.72        11\n",
      "\n",
      "----------------Test Confusion Matrix------------------\n"
     ]
    },
    {
     "data": {
      "text/plain": [
       "<sklearn.metrics._plot.confusion_matrix.ConfusionMatrixDisplay at 0x23d7cf5ec88>"
      ]
     },
     "execution_count": 16,
     "metadata": {},
     "output_type": "execute_result"
    },
    {
     "data": {
      "image/png": "[encoded data removed]",
      "text/plain": [
       "<Figure size 432x288 with 2 Axes>"
      ]
     },
     "metadata": {
      "needs_background": "light"
     },
     "output_type": "display_data"
    }
   ],
   "source": [
    "# Define parameters of the random forest to tune with gridsearcv\n",
    "param_grid = {'min_samples_leaf': [2, 5, 10],\n",
    "              'min_samples_split': [2, 5, 10],\n",
    "             'max_depth':[2, 5, 10, 100]}\n",
    "\n",
    "# Create a gridsearch using the Random Forest Classifier\n",
    "rtc = RandomForestClassifier(random_state = 0, bootstrap='false')\n",
    "clf = GridSearchCV(rtc, param_grid, cv=10, scoring='f1')\n",
    "\n",
    "# Train the classifier using training dataset\n",
    "clf.fit(XTrain , yTrain)\n",
    "\n",
    "#----------------Training with the best model\n",
    "\n",
    "\n",
    "rtc_finalmodel = clf.best_estimator_\n",
    "\n",
    "# ---------------Cross-validation\n",
    "\n",
    "# Calculate the Cross-validation error during the training step\n",
    "scores = cross_validate(rtc_finalmodel, XTrain, yTrain, cv=10, scoring=['f1', 'accuracy'])\n",
    "\n",
    "rtc_meanF1 = np.mean(scores['test_f1'])\n",
    "rtc_meanAcc = np.mean(scores['test_accuracy'])\n",
    "\n",
    "print('Cross-Validation classification metrics: \\n-------------------------')\n",
    "print(\"F1 SCORE \\n\", scores['test_f1'].tolist())\n",
    "print('Mean Validation Classification F1: ', rtc_meanF1)\n",
    "print(\"\\nACCURACY\\n\", scores['test_accuracy'].tolist())\n",
    "print('Mean Validation Classification Accuracy: ', rtc_meanAcc, \"\\n\")\n",
    "\n",
    "\n",
    "#----------------Training with the best model\n",
    "\n",
    "# Obtain the best parameters and calculate results on test set\n",
    "sleaf = clf.best_params_['min_samples_leaf']\n",
    "ssplit = clf.best_params_['min_samples_split']\n",
    "depth = clf.best_params_['max_depth']\n",
    "\n",
    "# Instantiate model with the best parameters and train with final Training data\n",
    "rtc_finalmodel = rtc_finalmodel.fit(XTrain, yTrain)\n",
    "\n",
    "\n",
    "#----------------Computing evaluation metrics\n",
    "\n",
    "#This counters are used to obtain the accuracy \"by hand\"\n",
    "contTrain = 0\n",
    "contTest = 0\n",
    "\n",
    "# Compute the TRAIN prediction according to the model\n",
    "yhatTrain = rtc_finalmodel.predict(XTrain)\n",
    "\n",
    "# Check the result on the train examples\n",
    "#print('Predicted value : ' + str(yhat) , ', real target : ' + str(yTrain))\n",
    "for i in range(0,len(yTrain),1) :\n",
    "    if (yhatTrain[i] == yTrain[i]):\n",
    "        contTrain = contTrain + 1\n",
    "        \n",
    "\n",
    "# Compute the TEST prediction according to the model\n",
    "yhatTest = rtc_finalmodel.predict(XTest)\n",
    "\n",
    "# Check the result on the test examples\n",
    "#print('Predicted value : ' + str(yhat) , ', real target : ' + str(yTest))\n",
    "for i in range(0,len(yTest),1) :\n",
    "    if (yhatTest[i] == yTest[i]):\n",
    "        contTest = contTest + 1\n",
    "        \n",
    "        \n",
    "# Save it in variables for later model assessment\n",
    "rtc_TrainAcc = contTrain/len(yTrain)\n",
    "rtc_TestAcc = contTest/len(yTest)\n",
    "rtc_TestErr = np.mean(yhatTest != yTest)\n",
    "\n",
    "dictReport = classification_report(yTest,yhatTest, output_dict=True)\n",
    "rtc_precision_per_label = [dictReport['0']['precision'], dictReport['1']['precision']]\n",
    "rtc_recall_per_label = [dictReport['0']['recall'], dictReport['1']['recall']]\n",
    "rtc_support_per_label = [dictReport['0']['support'], dictReport['1']['support']]\n",
    "rtc_wF1= dictReport['weighted avg']['f1-score']\n",
    "rtc_wprecision= dictReport['weighted avg']['precision']\n",
    "rtc_wrecall= dictReport['weighted avg']['recall']\n",
    "\n",
    "# Rest of reported evaluation metrics taken from sklearn.classification report \n",
    "\n",
    "rtc_fm_evaluation = {'Val_avgF1' : rtc_meanF1, \n",
    "                     'Val_avgAcc' : rtc_meanAcc, \n",
    "                     'Best_param' : [sleaf, ssplit, depth], \n",
    "                     \"Train_Acc\": rtc_TrainAcc, \n",
    "                     \"Test_Acc\": rtc_TestAcc,\n",
    "                     \"Test_Weighted_F1\" : rtc_wF1,\n",
    "                    \"Test_Weighted_precision\": rtc_wprecision, \n",
    "                    \"Test_Weighted_recall\": rtc_wrecall, \n",
    "                    \"Label_support\" : rtc_support_per_label,\n",
    "                    \"Precision_perLabel\" : rtc_precision_per_label,\n",
    "                     \"Recall_perLabel\": rtc_recall_per_label}\n",
    "\n",
    "\n",
    "        \n",
    "print(\"---------------- BEST MODEL HYPERPARAMETERS ------------------\")\n",
    "print(\"Best estimator found by grid search:\")\n",
    "print(rtc_finalmodel)\n",
    "print('Best Params (min leaf samples, min split samples, depth):', (sleaf, ssplit, depth))\n",
    "print('\\n\\t Train accuracy: ', rtc_TrainAcc)\n",
    "print('\\t Test accuracy: ', rtc_TestAcc)\n",
    "print('\\t Test Error: ', rtc_TestErr, \"\\n\")\n",
    "print(classification_report(yTest,yhatTest))\n",
    "                     \n",
    "#Print test confusion matrix\n",
    "print('----------------Test Confusion Matrix------------------')\n",
    "confmat_rtc = confusion_matrix(yTest,yhatTest)\n",
    "disp = ConfusionMatrixDisplay(confusion_matrix=confmat_rtc,display_labels=le.classes_)\n",
    "disp.plot()\n",
    "\n",
    "\n",
    "\n",
    "    "
   ]
  },
  {
   "cell_type": "markdown",
   "metadata": {},
   "source": [
    "## 2.4. Multi-Layer Perceptron (MLP) classifier\n",
    "\n",
    "For the multilayer perceptron classifier, we consider another series of parameters\n",
    "\n",
    "- **Defining the architecture of the network** is a decisive step for creating the MLP. We can define the number of hidden layers and nodes in every each one of the layers in this way. To increase the complexity (e.g. in training of multidimensional samples which more non-linear relationships), we can increase the number of nodes and or number of layers in the architecture (at the expense of heavier computation involved).\n",
    "In this case we will define a multilayer perceptron and evaluate if the training will be better either with 150 hidden nodes, another one with 2 layers of (10,30)nodes or with 3 layers of [5,10,100] nodes\n",
    "\n",
    "- **For the normalization of input and output** influence one can choose different activation functions. We consider a range of functions identity, sigmoid logistic, tanh, reLu functions. For instance, in the case of a neural network with a large number of hidden layers, it is recommended to use the non-linear function reLu to avoid the vanishing gradient problem derived from the large number of layers and hindered optimization.\n",
    "\n",
    "- We consider the **numerical solvers** `lbfgs`and `sgd` as they are more suitable and can converge better for small datasets\n",
    "\n",
    "- We can define the **maximum number of iterations** the training will follow with the `max_iter` parameter"
   ]
  },
  {
   "cell_type": "code",
   "execution_count": 17,
   "metadata": {},
   "outputs": [
    {
     "name": "stdout",
     "output_type": "stream",
     "text": [
      "Cross-Validation classification metrics: \n",
      "-------------------------\n",
      "F1 SCORE \n",
      " [0.8, 0.5714285714285715, 1.0, 1.0, 1.0, 0.0, 0.8, 1.0, 0.6666666666666666, 0.5]\n",
      "Mean Validation Classification F1:  0.7338095238095238\n",
      "\n",
      "ACCURACY\n",
      " [0.8, 0.4, 1.0, 1.0, 1.0, 0.5, 0.75, 1.0, 0.75, 0.5]\n",
      "Mean Validation Classification Accuracy:  0.77 \n",
      "\n",
      "---------------- BEST MODEL HYPERPARAMETERS ------------------\n",
      "Best estimator found by grid search:\n",
      "MLPClassifier(hidden_layer_sizes=(10, 30), max_iter=500, random_state=0,\n",
      "              solver='sgd')\n",
      "Best Params (max_iter, hidden_layer_sizes, activation, solver):  (500, (10, 30), 'relu', 'sgd')\n",
      "\n",
      "\t Train accuracy:  0.8809523809523809\n",
      "\t Test accuracy:  0.9090909090909091\n",
      "\t Test Error:  0.09090909090909091 \n",
      "\n",
      "              precision    recall  f1-score   support\n",
      "\n",
      "           0       1.00      0.75      0.86         4\n",
      "           1       0.88      1.00      0.93         7\n",
      "\n",
      "    accuracy                           0.91        11\n",
      "   macro avg       0.94      0.88      0.90        11\n",
      "weighted avg       0.92      0.91      0.91        11\n",
      "\n",
      "----------------Test Confusion Matrix------------------\n"
     ]
    },
    {
     "data": {
      "text/plain": [
       "<sklearn.metrics._plot.confusion_matrix.ConfusionMatrixDisplay at 0x23d7d131ac8>"
      ]
     },
     "execution_count": 17,
     "metadata": {},
     "output_type": "execute_result"
    },
    {
     "data": {
      "image/png": "[encoded data removed]",
      "text/plain": [
       "<Figure size 432x288 with 2 Axes>"
      ]
     },
     "metadata": {
      "needs_background": "light"
     },
     "output_type": "display_data"
    }
   ],
   "source": [
    "# Remove sklearn convergence warnings derived from the GridSearchCV\n",
    "from warnings import simplefilter\n",
    "from sklearn.exceptions import ConvergenceWarning\n",
    "simplefilter(\"ignore\", category=ConvergenceWarning)\n",
    "\n",
    "# Define parameters of the MLP to be checked with cross-validation\n",
    "param_grid = {'max_iter': [500, \n",
    "                           1000, \n",
    "                           2000],\n",
    "              'hidden_layer_sizes': [150,\n",
    "                                     (10,30),\n",
    "                                     (5,10,100)],\n",
    "              'activation':['identity',\n",
    "                            'logistic',\n",
    "                            'relu', \n",
    "                            'tanh'],\n",
    "              'solver': ['lbfgs', 'sgd']}\n",
    "\n",
    "\n",
    "mlp = MLPClassifier(random_state=0)\n",
    "# Create a gridsearch using the MLP Classifier\n",
    "clf = GridSearchCV(mlp, param_grid, cv=10, scoring = 'f1')\n",
    "\n",
    "\n",
    "# Train the classifier using training dataset\n",
    "clf.fit(XTrain , yTrain)\n",
    "\n",
    "\n",
    "#Obtain in the variable model the best MLP classifier\n",
    "mlp_finalmodel = clf.best_estimator_\n",
    "\n",
    "\n",
    "# ---------------Cross-validation\n",
    "\n",
    "# Calculate the Cross-validation error during the training step\n",
    "scores = cross_validate(mlp_finalmodel, XTrain, yTrain, cv=10, scoring=['f1', 'accuracy'])\n",
    "\n",
    "mlp_meanF1 = np.mean(scores['test_f1'])\n",
    "mlp_meanAcc = np.mean(scores['test_accuracy'])\n",
    "\n",
    "\n",
    "print('Cross-Validation classification metrics: \\n-------------------------')\n",
    "print(\"F1 SCORE \\n\", scores['test_f1'].tolist())\n",
    "print('Mean Validation Classification F1: ', mlp_meanF1)\n",
    "print(\"\\nACCURACY\\n\", scores['test_accuracy'].tolist())\n",
    "print('Mean Validation Classification Accuracy: ', mlp_meanAcc, \"\\n\")\n",
    "\n",
    "\n",
    "\n",
    "#----------------Training with the best model\n",
    "\n",
    "# Obtain the best parameters and calculate results on test set\n",
    "maxiter = clf.best_params_['max_iter']\n",
    "hidden_ls = clf.best_params_['hidden_layer_sizes']\n",
    "actfunct = clf.best_params_['activation']\n",
    "solv = clf.best_params_['solver']\n",
    "\n",
    "# Instantiate model with the best parameters and train with final Training data\n",
    "\n",
    "mlp_finalmodel = mlp_finalmodel.fit(XTrain, yTrain)\n",
    "\n",
    "\n",
    "#----------------Computing evaluation metrics\n",
    "\n",
    "#This counters are used to obtain the accuracy \"by hand\"\n",
    "contTrain = 0\n",
    "contTest = 0\n",
    "\n",
    "\n",
    "# Compute the train prediction according to the model\n",
    "yhatTrain = mlp_finalmodel.predict(XTrain)\n",
    "\n",
    "# Check the result on the train examples\n",
    "#print('Predicted value : ' + str(yhat) , ', real target : ' + str(yTrain))\n",
    "for i in range(0,len(yTrain),1) :\n",
    "    if (yhatTrain[i] == yTrain[i]):\n",
    "        contTrain = contTrain + 1\n",
    "\n",
    "# Compute the test prediction according to the model\n",
    "yhatTest = mlp_finalmodel.predict(XTest)\n",
    "\n",
    "# Check the result on the test examples\n",
    "#print('Predicted value : ' + str(yhat) , ', real target : ' + str(yTest))\n",
    "for i in range(0,len(yTest),1) :\n",
    "    if (yhatTest[i] == yTest[i]):\n",
    "        contTest = contTest + 1\n",
    "\n",
    "        \n",
    "# Save it in variables for later model assessment\n",
    "mlp_TrainAcc = contTrain/len(yTrain)\n",
    "mlp_TestAcc = contTest/len(yTest)\n",
    "mlp_TestErr = np.mean(yhatTest != yTest)\n",
    "\n",
    "dictReport = classification_report(yTest,yhatTest, output_dict=True)\n",
    "mlp_precision_per_label = [dictReport['0']['precision'], dictReport['1']['precision']]\n",
    "mlp_recall_per_label = [dictReport['0']['recall'], dictReport['1']['recall']]\n",
    "mlp_support_per_label = [dictReport['0']['support'], dictReport['1']['support']]\n",
    "mlp_wF1= dictReport['weighted avg']['f1-score']\n",
    "mlp_wprecision= dictReport['weighted avg']['precision']\n",
    "mlp_wrecall= dictReport['weighted avg']['recall']\n",
    "\n",
    "# Rest of reported evaluation metrics taken from sklearn.classification report \n",
    "\n",
    "mlp_fm_evaluation = {'Val_avgF1' : mlp_meanF1, \n",
    "                     'Val_avgAcc' : mlp_meanAcc, \n",
    "                     'Best_param': (maxiter, hidden_ls, actfunct, solv), \n",
    "                     \"Train_Acc\": mlp_TrainAcc, \n",
    "                     \"Test_Acc\": mlp_TestAcc,\n",
    "                     \"Test_Weighted_F1\" : mlp_wF1,\n",
    "                    \"Test_Weighted_precision\": mlp_wprecision, \n",
    "                    \"Test_Weighted_recall\": mlp_wrecall, \n",
    "                    \"Label_support\" : mlp_support_per_label,\n",
    "                    \"Precision_perLabel\" : mlp_precision_per_label,\n",
    "                     \"Recall_perLabel\": mlp_recall_per_label}\n",
    "\n",
    "\n",
    "        \n",
    "print(\"---------------- BEST MODEL HYPERPARAMETERS ------------------\")\n",
    "print(\"Best estimator found by grid search:\")\n",
    "print(mlp_finalmodel)\n",
    "print('Best Params (max_iter, hidden_layer_sizes, activation, solver): ', (maxiter, hidden_ls, actfunct, solv))\n",
    "\n",
    "print('\\n\\t Train accuracy: ', mlp_TrainAcc)\n",
    "print('\\t Test accuracy: ', mlp_TestAcc)\n",
    "print('\\t Test Error: ', mlp_TestErr, \"\\n\")\n",
    "print(classification_report(yTest,yhatTest))\n",
    "                     \n",
    "#Print test confusion matrix\n",
    "print('----------------Test Confusion Matrix------------------')\n",
    "confmat_mlp = confusion_matrix(yTest,yhatTest)\n",
    "disp = ConfusionMatrixDisplay(confusion_matrix=confmat_mlp,display_labels=le.classes_)\n",
    "disp.plot()\n",
    "\n",
    "\n"
   ]
  },
  {
   "cell_type": "markdown",
   "metadata": {},
   "source": [
    "## 5. Logistic regression (LogReg)"
   ]
  },
  {
   "cell_type": "markdown",
   "metadata": {},
   "source": [
    "In this case, we will want to optimize a discriminative sigmoid classifier to learn to distinguish the classes through modelling probability distributions of classes or events existing and defines a decision boundary for prediction(in this case, Responsiveness R and NonResponsiveness NR).\n",
    "\n",
    "For a multinomial logistic classifier in this case, a softmax function will be used to compute the probability distributions. The modelling of the probability distributions is done through the learning of weights w and biases b with the minimization of a Loss Function, a measurement metric of distance between predictions and the true observations. However, to avoid overfitting, a regularization term is added into the parameter estimate, which depends on a regularization strength and is the inverse of the parameter we propose for optimization , C. If C is large, the strength of the regulatization will be low and there can be overfitting, whereas if it is small, the strength will be much higher and will obstaculize the model from learning.\n"
   ]
  },
  {
   "cell_type": "code",
   "execution_count": 18,
   "metadata": {},
   "outputs": [
    {
     "name": "stdout",
     "output_type": "stream",
     "text": [
      "Cross-Validation classification metrics: \n",
      "-------------------------\n",
      "F1 SCORE \n",
      " [0.6666666666666666, 0.5714285714285715, 1.0, 1.0, 1.0, 0.6666666666666666, 0.0, 0.8, 0.4, 0.5]\n",
      "Mean Validation Classification F1:  0.6604761904761905\n",
      "\n",
      "ACCURACY\n",
      " [0.6, 0.4, 1.0, 1.0, 1.0, 0.75, 0.0, 0.75, 0.25, 0.5]\n",
      "Mean Validation Classification Accuracy:  0.625 \n",
      "\n",
      "---------------- BEST MODEL HYPERPARAMETERS ------------------\n",
      "Best estimator found by grid search:\n",
      "LogisticRegression(C=0.11018036072144288, max_iter=1000, random_state=0,\n",
      "                   solver='liblinear')\n",
      "Best_param C : 0.11018036072144288\n",
      "\n",
      "\t Train accuracy:  0.8809523809523809\n",
      "\t Test accuracy:  0.8181818181818182\n",
      "\t Test Error:  0.18181818181818182 \n",
      "\n",
      "              precision    recall  f1-score   support\n",
      "\n",
      "           0       0.75      0.75      0.75         4\n",
      "           1       0.86      0.86      0.86         7\n",
      "\n",
      "    accuracy                           0.82        11\n",
      "   macro avg       0.80      0.80      0.80        11\n",
      "weighted avg       0.82      0.82      0.82        11\n",
      "\n",
      "----------------Test Confusion Matrix------------------\n"
     ]
    },
    {
     "data": {
      "text/plain": [
       "<sklearn.metrics._plot.confusion_matrix.ConfusionMatrixDisplay at 0x23d7d1680f0>"
      ]
     },
     "execution_count": 18,
     "metadata": {},
     "output_type": "execute_result"
    },
    {
     "data": {
      "image/png": "[encoded data removed]",
      "text/plain": [
       "<Figure size 432x288 with 2 Axes>"
      ]
     },
     "metadata": {
      "needs_background": "light"
     },
     "output_type": "display_data"
    }
   ],
   "source": [
    "# Define the parameter ranges to tune with gridsearchcv\n",
    "\n",
    "param_grid = {'C' : np.linspace(0.01,50, 500)}\n",
    "\n",
    "\n",
    "logreg = LogisticRegression(max_iter=1000, solver='liblinear', random_state=0)\n",
    "# Create a gridsearch using the MLP Classifier\n",
    "clf = GridSearchCV(logreg, param_grid, cv=10, scoring='f1')\n",
    "\n",
    "# Train the classifier using training dataset\n",
    "clf.fit(XTrain , yTrain)\n",
    "\n",
    "#Obtain in the variable model the best logreg classifier\n",
    "logreg_finalmodel = clf.best_estimator_\n",
    "\n",
    "# ---------------Cross-validation\n",
    "\n",
    "# Calculate the Cross-validation error during the training step\n",
    "scores = cross_validate(logreg_finalmodel, XTrain, yTrain, cv=10, scoring=['f1', 'accuracy'])\n",
    "\n",
    "logreg_meanF1 = np.mean(scores['test_f1'])\n",
    "logreg_meanAcc = np.mean(scores['test_accuracy'])\n",
    "\n",
    "print('Cross-Validation classification metrics: \\n-------------------------')\n",
    "print(\"F1 SCORE \\n\", scores['test_f1'].tolist())\n",
    "print('Mean Validation Classification F1: ', logreg_meanF1)\n",
    "print(\"\\nACCURACY\\n\", scores['test_accuracy'].tolist())\n",
    "print('Mean Validation Classification Accuracy: ', logreg_meanAcc, \"\\n\")\n",
    "\n",
    "\n",
    "\n",
    "#----------------Training with the best model\n",
    "\n",
    "Copt = clf.best_params_['C']\n",
    "\n",
    "logreg_finalmodel = logreg_finalmodel.fit(XTrain, yTrain)\n",
    "\n",
    "\n",
    "\n",
    "#----------------Computing evaluation metrics\n",
    "\n",
    "\n",
    "#This counters are used to obtain the accuracy \"by hand\"\n",
    "contTrain = 0\n",
    "contTest = 0\n",
    "\n",
    "# Compute the train prediction according to the model\n",
    "yhatTrain = logreg_finalmodel.predict(XTrain)\n",
    "\n",
    "# Check the result on the train examples\n",
    "#print('Predicted value : ' + str(yhat) , ', real target : ' + str(yTrain))\n",
    "for i in range(0,len(yTrain),1) :\n",
    "    if (yhatTrain[i] == yTrain[i]):\n",
    "        contTrain = contTrain + 1\n",
    "        \n",
    "# Compute the test prediction according to the model\n",
    "yhatTest = logreg_finalmodel.predict(XTest)\n",
    "\n",
    "# Check the result on the train examples\n",
    "#print('Predicted value : ' + str(yhat) , ', real target : ' + str(yTrain))\n",
    "for i in range(0,len(yTest),1) :\n",
    "    if (yhatTest[i] == yTest[i]):\n",
    "        contTest = contTest + 1\n",
    "\n",
    "\n",
    "        \n",
    "# Save it in variables for later model assessment\n",
    "logreg_TrainAcc = contTrain/len(yTrain)\n",
    "logreg_TestAcc = contTest/len(yTest)\n",
    "logreg_TestErr = np.mean(yhatTest != yTest)\n",
    "\n",
    "dictReport = classification_report(yTest,yhatTest, output_dict=True)\n",
    "logreg_precision_per_label = [dictReport['0']['precision'], dictReport['1']['precision']]\n",
    "logreg_recall_per_label = [dictReport['0']['recall'], dictReport['1']['recall']]\n",
    "logreg_support_per_label = [dictReport['0']['support'], dictReport['1']['support']]\n",
    "logreg_wF1= dictReport['weighted avg']['f1-score']\n",
    "logreg_wprecision= dictReport['weighted avg']['precision']\n",
    "logreg_wrecall= dictReport['weighted avg']['recall']\n",
    "\n",
    "# Rest of reported evaluation metrics taken from sklearn.classification report \n",
    "\n",
    "logreg_fm_evaluation = {'Val_avgF1' : logreg_meanF1, \n",
    "                     'Val_avgAcc' : logreg_meanAcc, \n",
    "                     'Best_param': Copt, \n",
    "                     \"Train_Acc\": logreg_TrainAcc, \n",
    "                     \"Test_Acc\": logreg_TestAcc,\n",
    "                     \"Test_Weighted_F1\" : logreg_wF1,\n",
    "                    \"Test_Weighted_precision\": logreg_wprecision, \n",
    "                    \"Test_Weighted_recall\": logreg_wrecall, \n",
    "                    \"Label_support\" : logreg_support_per_label,\n",
    "                    \"Precision_perLabel\" : logreg_precision_per_label,\n",
    "                     \"Recall_perLabel\": logreg_recall_per_label}\n",
    "\n",
    "\n",
    "        \n",
    "print(\"---------------- BEST MODEL HYPERPARAMETERS ------------------\")\n",
    "print(\"Best estimator found by grid search:\")\n",
    "print(logreg_finalmodel)\n",
    "print('Best_param C :', Copt)\n",
    "print('\\n\\t Train accuracy: ', logreg_TrainAcc)\n",
    "print('\\t Test accuracy: ', logreg_TestAcc)\n",
    "print('\\t Test Error: ', logreg_TestErr, \"\\n\")\n",
    "print(classification_report(yTest,yhatTest))\n",
    "                     \n",
    "#Print test confusion matrix\n",
    "print('----------------Test Confusion Matrix------------------')\n",
    "confmat_logreg = confusion_matrix(yTest,yhatTest)\n",
    "disp = ConfusionMatrixDisplay(confusion_matrix=confmat_logreg,display_labels=le.classes_)\n",
    "disp.plot()\n",
    "\n"
   ]
  },
  {
   "cell_type": "markdown",
   "metadata": {},
   "source": [
    "This model has similar evaluation metric values across accuracy, f1, precision and recall values in the small dataset to those relating to the KNN model, probably because of the small dataset used for training"
   ]
  },
  {
   "cell_type": "markdown",
   "metadata": {},
   "source": [
    "<a id='#Results'></a>"
   ]
  },
  {
   "cell_type": "markdown",
   "metadata": {},
   "source": [
    "---"
   ]
  },
  {
   "cell_type": "markdown",
   "metadata": {
    "tags": []
   },
   "source": [
    "# 3. Model assessment"
   ]
  },
  {
   "cell_type": "markdown",
   "metadata": {},
   "source": [
    "    This stage will focus on reformatting final metric dictionaries into tables for model comparison and for choosing the optimal model for the problem at hand. We will also justify and assess the evaluation metrics retrieved by each selected model."
   ]
  },
  {
   "cell_type": "markdown",
   "metadata": {},
   "source": [
    "##### A. Comparative Cross-Validation metrics\n",
    "\n",
    "First we will check if the cross-validation of the model was not hindered by the train/test data splitting chosen for all models. We gathered average F1 scores and accuracies for this"
   ]
  },
  {
   "cell_type": "code",
   "execution_count": 19,
   "metadata": {},
   "outputs": [],
   "source": [
    "knn_fm_cv_metrics = {k:v for k,v in knn_fm_evaluation.items() if k in ['Val_avgF1', 'Val_avgAcc']}\n",
    "dtc_fm_cv_metrics = {k:v for k,v in dtc_fm_evaluation.items() if k in ['Val_avgF1', 'Val_avgAcc']}\n",
    "rtc_fm_cv_metrics = {k:v for k,v in rtc_fm_evaluation.items() if k in ['Val_avgF1', 'Val_avgAcc']}\n",
    "mlp_fm_cv_metrics = {k:v for k,v in mlp_fm_evaluation.items() if k in [ 'Val_avgF1', 'Val_avgAcc']}\n",
    "logreg_fm_cv_metrics = {k:v for k,v in logreg_fm_evaluation.items() if k in ['Val_avgF1', 'Val_avgAcc']}\n"
   ]
  },
  {
   "cell_type": "code",
   "execution_count": 20,
   "metadata": {},
   "outputs": [
    {
     "name": "stdout",
     "output_type": "stream",
     "text": [
      "Hyperparameter optimization\n",
      "Best hparams\n",
      "KNN :  [12, 'euclidean']\n",
      "DTC :  [2, 10, 5, 'gini']\n",
      "RFC :  [5, 2, 2]\n",
      "MLP :  (500, (10, 30), 'relu', 'sgd')\n",
      "LogReg :  0.11018036072144288\n",
      "\n",
      "Cross-validation\n",
      "\n"
     ]
    },
    {
     "data": {
      "text/html": [
       "<style type=\"text/css\">\n",
       "#T_b811c_row0_col0, #T_b811c_row1_col0 {\n",
       "  background-color: #023858;\n",
       "  color: #f1f1f1;\n",
       "}\n",
       "#T_b811c_row0_col1 {\n",
       "  background-color: #509ac6;\n",
       "  color: #f1f1f1;\n",
       "}\n",
       "#T_b811c_row0_col2 {\n",
       "  background-color: #0c74b2;\n",
       "  color: #f1f1f1;\n",
       "}\n",
       "#T_b811c_row0_col3 {\n",
       "  background-color: #a7bddb;\n",
       "  color: #000000;\n",
       "}\n",
       "#T_b811c_row0_col4, #T_b811c_row1_col4 {\n",
       "  background-color: #fff7fb;\n",
       "  color: #000000;\n",
       "}\n",
       "#T_b811c_row1_col1 {\n",
       "  background-color: #63a2cb;\n",
       "  color: #f1f1f1;\n",
       "}\n",
       "#T_b811c_row1_col2 {\n",
       "  background-color: #4c99c5;\n",
       "  color: #f1f1f1;\n",
       "}\n",
       "#T_b811c_row1_col3 {\n",
       "  background-color: #2383ba;\n",
       "  color: #f1f1f1;\n",
       "}\n",
       "</style>\n",
       "<table id=\"T_b811c_\">\n",
       "  <thead>\n",
       "    <tr>\n",
       "      <th class=\"blank level0\" >&nbsp;</th>\n",
       "      <th class=\"col_heading level0 col0\" >KNN</th>\n",
       "      <th class=\"col_heading level0 col1\" >DTC</th>\n",
       "      <th class=\"col_heading level0 col2\" >RFC</th>\n",
       "      <th class=\"col_heading level0 col3\" >MLP</th>\n",
       "      <th class=\"col_heading level0 col4\" >LogReg</th>\n",
       "    </tr>\n",
       "  </thead>\n",
       "  <tbody>\n",
       "    <tr>\n",
       "      <th id=\"T_b811c_level0_row0\" class=\"row_heading level0 row0\" >Val_avgF1</th>\n",
       "      <td id=\"T_b811c_row0_col0\" class=\"data row0 col0\" >0.856667</td>\n",
       "      <td id=\"T_b811c_row0_col1\" class=\"data row0 col1\" >0.772381</td>\n",
       "      <td id=\"T_b811c_row0_col2\" class=\"data row0 col2\" >0.803810</td>\n",
       "      <td id=\"T_b811c_row0_col3\" class=\"data row0 col3\" >0.733810</td>\n",
       "      <td id=\"T_b811c_row0_col4\" class=\"data row0 col4\" >0.660476</td>\n",
       "    </tr>\n",
       "    <tr>\n",
       "      <th id=\"T_b811c_level0_row1\" class=\"row_heading level0 row1\" >Val_avgAcc</th>\n",
       "      <td id=\"T_b811c_row1_col0\" class=\"data row1 col0\" >0.840000</td>\n",
       "      <td id=\"T_b811c_row1_col1\" class=\"data row1 col1\" >0.740000</td>\n",
       "      <td id=\"T_b811c_row1_col2\" class=\"data row1 col2\" >0.750000</td>\n",
       "      <td id=\"T_b811c_row1_col3\" class=\"data row1 col3\" >0.770000</td>\n",
       "      <td id=\"T_b811c_row1_col4\" class=\"data row1 col4\" >0.625000</td>\n",
       "    </tr>\n",
       "  </tbody>\n",
       "</table>\n"
      ],
      "text/plain": [
       "<pandas.io.formats.style.Styler at 0x23d7d1dbb70>"
      ]
     },
     "execution_count": 20,
     "metadata": {},
     "output_type": "execute_result"
    }
   ],
   "source": [
    "knn_cvmetrics = pd.DataFrame(knn_fm_cv_metrics, index=[\"KNN\"])\n",
    "dtc_cvmetrics = pd.DataFrame(dtc_fm_cv_metrics, index=[\"DTC\"])\n",
    "rtc_cvmetrics = pd.DataFrame(rtc_fm_cv_metrics, index=[\"RFC\"])\n",
    "mlp_cvmetrics = pd.DataFrame(mlp_fm_cv_metrics, index=[\"MLP\"])\n",
    "logreg_cvmetrics = pd.DataFrame(logreg_fm_cv_metrics, index=[\"LogReg\"])\n",
    "\n",
    "print('Hyperparameter optimization')\n",
    "print('Best hparams')\n",
    "print('KNN : ', knn_fm_evaluation['Best_param'])\n",
    "print('DTC : ', dtc_fm_evaluation['Best_param'])\n",
    "print('RFC : ', rtc_fm_evaluation['Best_param'])\n",
    "print('MLP : ', mlp_fm_evaluation['Best_param'])\n",
    "print('LogReg : ', logreg_fm_evaluation['Best_param'])\n",
    "\n",
    "print('\\nCross-validation\\n')\n",
    "global_cv_metrics = pd.concat((knn_cvmetrics,dtc_cvmetrics, rtc_cvmetrics, mlp_cvmetrics, logreg_cvmetrics), axis=0).transpose()\n",
    "global_cv_metrics.style.background_gradient(cmap='PuBu', axis=1)\n"
   ]
  },
  {
   "cell_type": "markdown",
   "metadata": {},
   "source": [
    "The cross-validation was better for KNN suggesting that the other methods might have needed another k-fold for train-validation data splitting. Perhaps because of the small initial train dataset some methods were better at extrapolating their models trained from the small samples. The model with the lowest cross-validation evaluation metrics was the Logistic Regression, which had very heterogeneous validation scorings as we could see from its results in the above cells for both accuracy and F1.\n",
    "\n",
    "Getting a larger amount of data or increasing the test proportion will give more realistic final model evaluation metrics, as long as the cross-validation process is not hindered by this subsequent reduction in training subset. As a suggestion, other more small larger number of K partitions partitions can be used if the dataset is small and sparce, and even a leave-one out crossvalidation can also be efficient for this case."
   ]
  },
  {
   "cell_type": "markdown",
   "metadata": {},
   "source": [
    "##### B. Global evaluation metrics of final models"
   ]
  },
  {
   "cell_type": "markdown",
   "metadata": {},
   "source": [
    "Now we will evaluate the global evaluation metrics for the final models for all techniques, pertaining to :\n",
    "- **Train accuracy values :** To confirm if there was not overfitting (*If we performed a proper cross validation before, this should not be a problem*)\n",
    "- **Test Accuracy, Weighed F1, Weighed precision and Weighed recall :** Evaluation metrics of the final model with regards to the test subset. These are the values we should take into account to select the best model\n",
    "\n",
    "Weighed evaluation metrics were chosen due to the slight change of frequency counts between R and NR labels"
   ]
  },
  {
   "cell_type": "code",
   "execution_count": 21,
   "metadata": {},
   "outputs": [],
   "source": [
    "knn_fm_evaluation_metrics = {k:v for k,v in knn_fm_evaluation.items() if k not in ['Label_support','Precision_perLabel','Recall_perLabel', 'Best_param', 'Val_avgF1', 'Val_avgAcc']}\n",
    "dtc_fm_evaluation_metrics = {k:v for k,v in dtc_fm_evaluation.items() if k not in ['Label_support','Precision_perLabel','Recall_perLabel', 'Best_param', 'Val_avgF1', 'Val_avgAcc']}\n",
    "rtc_fm_evaluation_metrics = {k:v for k,v in rtc_fm_evaluation.items() if k not in ['Label_support','Precision_perLabel','Recall_perLabel', 'Best_param', 'Val_avgF1', 'Val_avgAcc']}\n",
    "mlp_fm_evaluation_metrics = {k:v for k,v in mlp_fm_evaluation.items() if k not in ['Label_support','Precision_perLabel','Recall_perLabel', 'Best_param', 'Val_avgF1', 'Val_avgAcc']}\n",
    "logreg_fm_evaluation_metrics = {k:v for k,v in logreg_fm_evaluation.items() if k not in ['Label_support','Precision_perLabel','Recall_perLabel', 'Best_param', 'Val_avgF1', 'Val_avgAcc']}\n"
   ]
  },
  {
   "cell_type": "code",
   "execution_count": 22,
   "metadata": {},
   "outputs": [
    {
     "data": {
      "text/html": [
       "<style type=\"text/css\">\n",
       "#T_498a7_row0_col0, #T_498a7_row0_col2, #T_498a7_row0_col3, #T_498a7_row0_col4, #T_498a7_row1_col1, #T_498a7_row1_col2, #T_498a7_row2_col2, #T_498a7_row3_col2, #T_498a7_row4_col1, #T_498a7_row4_col2 {\n",
       "  background-color: #fff7fb;\n",
       "  color: #000000;\n",
       "}\n",
       "#T_498a7_row0_col1, #T_498a7_row1_col3, #T_498a7_row2_col3, #T_498a7_row3_col3, #T_498a7_row4_col3 {\n",
       "  background-color: #023858;\n",
       "  color: #f1f1f1;\n",
       "}\n",
       "#T_498a7_row1_col0, #T_498a7_row1_col4, #T_498a7_row4_col0, #T_498a7_row4_col4 {\n",
       "  background-color: #73a9cf;\n",
       "  color: #f1f1f1;\n",
       "}\n",
       "#T_498a7_row2_col0, #T_498a7_row2_col4 {\n",
       "  background-color: #62a2cb;\n",
       "  color: #f1f1f1;\n",
       "}\n",
       "#T_498a7_row2_col1 {\n",
       "  background-color: #f3edf5;\n",
       "  color: #000000;\n",
       "}\n",
       "#T_498a7_row3_col0, #T_498a7_row3_col4 {\n",
       "  background-color: #78abd0;\n",
       "  color: #f1f1f1;\n",
       "}\n",
       "#T_498a7_row3_col1 {\n",
       "  background-color: #e8e4f0;\n",
       "  color: #000000;\n",
       "}\n",
       "</style>\n",
       "<table id=\"T_498a7_\">\n",
       "  <thead>\n",
       "    <tr>\n",
       "      <th class=\"blank level0\" >&nbsp;</th>\n",
       "      <th class=\"col_heading level0 col0\" >KNN</th>\n",
       "      <th class=\"col_heading level0 col1\" >DTC</th>\n",
       "      <th class=\"col_heading level0 col2\" >RFC</th>\n",
       "      <th class=\"col_heading level0 col3\" >MLP</th>\n",
       "      <th class=\"col_heading level0 col4\" >LogReg</th>\n",
       "    </tr>\n",
       "  </thead>\n",
       "  <tbody>\n",
       "    <tr>\n",
       "      <th id=\"T_498a7_level0_row0\" class=\"row_heading level0 row0\" >Train_Acc</th>\n",
       "      <td id=\"T_498a7_row0_col0\" class=\"data row0 col0\" >0.880952</td>\n",
       "      <td id=\"T_498a7_row0_col1\" class=\"data row0 col1\" >0.904762</td>\n",
       "      <td id=\"T_498a7_row0_col2\" class=\"data row0 col2\" >0.880952</td>\n",
       "      <td id=\"T_498a7_row0_col3\" class=\"data row0 col3\" >0.880952</td>\n",
       "      <td id=\"T_498a7_row0_col4\" class=\"data row0 col4\" >0.880952</td>\n",
       "    </tr>\n",
       "    <tr>\n",
       "      <th id=\"T_498a7_level0_row1\" class=\"row_heading level0 row1\" >Test_Acc</th>\n",
       "      <td id=\"T_498a7_row1_col0\" class=\"data row1 col0\" >0.818182</td>\n",
       "      <td id=\"T_498a7_row1_col1\" class=\"data row1 col1\" >0.727273</td>\n",
       "      <td id=\"T_498a7_row1_col2\" class=\"data row1 col2\" >0.727273</td>\n",
       "      <td id=\"T_498a7_row1_col3\" class=\"data row1 col3\" >0.909091</td>\n",
       "      <td id=\"T_498a7_row1_col4\" class=\"data row1 col4\" >0.818182</td>\n",
       "    </tr>\n",
       "    <tr>\n",
       "      <th id=\"T_498a7_level0_row2\" class=\"row_heading level0 row2\" >Test_Weighted_F1</th>\n",
       "      <td id=\"T_498a7_row2_col0\" class=\"data row2 col0\" >0.818182</td>\n",
       "      <td id=\"T_498a7_row2_col1\" class=\"data row2 col1\" >0.731935</td>\n",
       "      <td id=\"T_498a7_row2_col2\" class=\"data row2 col2\" >0.716883</td>\n",
       "      <td id=\"T_498a7_row2_col3\" class=\"data row2 col3\" >0.905628</td>\n",
       "      <td id=\"T_498a7_row2_col4\" class=\"data row2 col4\" >0.818182</td>\n",
       "    </tr>\n",
       "    <tr>\n",
       "      <th id=\"T_498a7_level0_row3\" class=\"row_heading level0 row3\" >Test_Weighted_precision</th>\n",
       "      <td id=\"T_498a7_row3_col0\" class=\"data row3 col0\" >0.818182</td>\n",
       "      <td id=\"T_498a7_row3_col1\" class=\"data row3 col1\" >0.748485</td>\n",
       "      <td id=\"T_498a7_row3_col2\" class=\"data row3 col2\" >0.719697</td>\n",
       "      <td id=\"T_498a7_row3_col3\" class=\"data row3 col3\" >0.920455</td>\n",
       "      <td id=\"T_498a7_row3_col4\" class=\"data row3 col4\" >0.818182</td>\n",
       "    </tr>\n",
       "    <tr>\n",
       "      <th id=\"T_498a7_level0_row4\" class=\"row_heading level0 row4\" >Test_Weighted_recall</th>\n",
       "      <td id=\"T_498a7_row4_col0\" class=\"data row4 col0\" >0.818182</td>\n",
       "      <td id=\"T_498a7_row4_col1\" class=\"data row4 col1\" >0.727273</td>\n",
       "      <td id=\"T_498a7_row4_col2\" class=\"data row4 col2\" >0.727273</td>\n",
       "      <td id=\"T_498a7_row4_col3\" class=\"data row4 col3\" >0.909091</td>\n",
       "      <td id=\"T_498a7_row4_col4\" class=\"data row4 col4\" >0.818182</td>\n",
       "    </tr>\n",
       "  </tbody>\n",
       "</table>\n"
      ],
      "text/plain": [
       "<pandas.io.formats.style.Styler at 0x23d7d15c320>"
      ]
     },
     "execution_count": 22,
     "metadata": {},
     "output_type": "execute_result"
    }
   ],
   "source": [
    "knn_evmetrics = pd.DataFrame(knn_fm_evaluation_metrics, index=[\"KNN\"])\n",
    "dtc_evmetrics = pd.DataFrame(dtc_fm_evaluation_metrics, index=[\"DTC\"])\n",
    "rtc_evmetrics = pd.DataFrame(rtc_fm_evaluation_metrics, index=[\"RFC\"])\n",
    "mlp_evmetrics = pd.DataFrame(mlp_fm_evaluation_metrics, index=[\"MLP\"])\n",
    "logreg_evmetrics = pd.DataFrame(logreg_fm_evaluation_metrics, index=[\"LogReg\"])\n",
    "\n",
    "global_ev_metrics = pd.concat((knn_evmetrics,dtc_evmetrics, rtc_evmetrics, mlp_evmetrics, logreg_evmetrics), axis=0).transpose()\n",
    "global_ev_metrics.style.background_gradient(cmap='PuBu', axis=1)"
   ]
  },
  {
   "cell_type": "markdown",
   "metadata": {},
   "source": [
    "The model with the best performance in terms of accuracy, f1, weighted precision and recall is the final model for the Multi-Layer Perceptron (MLP), followed by KNN and Logistic Regression. This is possibly because of the model better encapsulating high-dimensionality data with higher complexity.\n",
    "\n",
    "It seems important to note that there might have been overfitting in the Decision Tree Classifier model, as the training accuracy is considerably higher than that of the testing model. This increase in Train accuracy is slighly less noticeable in RFC, possibly because of the random subsampling that avoids overfitting."
   ]
  },
  {
   "cell_type": "markdown",
   "metadata": {},
   "source": [
    "##### A. Comparative Per label metrics\n",
    "\n",
    "Evaluation metrics specific to label predictions were gathered to check what label the model predicted better. These are gathered in the form of **precision** and **recall**, but **Label support**, or the frequency number of the categorical labels types in the testing dataset, is plotted as a reference of how much coverage there is of each label. \n",
    "\n",
    "*These support values should be the same for every model, as we used the same testing and training datasets*"
   ]
  },
  {
   "cell_type": "code",
   "execution_count": 23,
   "metadata": {},
   "outputs": [],
   "source": [
    "knn_fm_perlabel_metrics = {k:v for k,v in knn_fm_evaluation.items() if k in ['Label_support','Precision_perLabel','Recall_perLabel']}\n",
    "dtc_fm_perlabel_metrics = {k:v for k,v in dtc_fm_evaluation.items() if k in ['Label_support','Precision_perLabel','Recall_perLabel']}\n",
    "rtc_fm_perlabel_metrics = {k:v for k,v in rtc_fm_evaluation.items() if k in ['Label_support','Precision_perLabel','Recall_perLabel']}\n",
    "mlp_fm_perlabel_metrics = {k:v for k,v in mlp_fm_evaluation.items() if k in ['Label_support','Precision_perLabel','Recall_perLabel']}\n",
    "logreg_fm_perlabel_metrics = {k:v for k,v in logreg_fm_evaluation.items() if k in ['Label_support','Precision_perLabel','Recall_perLabel']}"
   ]
  },
  {
   "cell_type": "code",
   "execution_count": 24,
   "metadata": {},
   "outputs": [
    {
     "data": {
      "text/html": [
       "<style type=\"text/css\">\n",
       "#T_41649_row0_col0, #T_41649_row0_col2, #T_41649_row0_col4, #T_41649_row0_col6, #T_41649_row0_col8, #T_41649_row1_col2, #T_41649_row2_col4 {\n",
       "  background-color: #fff7fb;\n",
       "  color: #000000;\n",
       "}\n",
       "#T_41649_row0_col1, #T_41649_row0_col3, #T_41649_row0_col5, #T_41649_row0_col7, #T_41649_row0_col9, #T_41649_row1_col6, #T_41649_row2_col7 {\n",
       "  background-color: #023858;\n",
       "  color: #f1f1f1;\n",
       "}\n",
       "#T_41649_row1_col0, #T_41649_row1_col5, #T_41649_row1_col8 {\n",
       "  background-color: #a5bddb;\n",
       "  color: #000000;\n",
       "}\n",
       "#T_41649_row1_col1, #T_41649_row1_col9 {\n",
       "  background-color: #2f8bbe;\n",
       "  color: #f1f1f1;\n",
       "}\n",
       "#T_41649_row1_col3 {\n",
       "  background-color: #4a98c5;\n",
       "  color: #f1f1f1;\n",
       "}\n",
       "#T_41649_row1_col4 {\n",
       "  background-color: #e3e0ee;\n",
       "  color: #000000;\n",
       "}\n",
       "#T_41649_row1_col7 {\n",
       "  background-color: #1c7fb8;\n",
       "  color: #f1f1f1;\n",
       "}\n",
       "#T_41649_row2_col0, #T_41649_row2_col2, #T_41649_row2_col6, #T_41649_row2_col8 {\n",
       "  background-color: #73a9cf;\n",
       "  color: #f1f1f1;\n",
       "}\n",
       "#T_41649_row2_col1, #T_41649_row2_col5, #T_41649_row2_col9 {\n",
       "  background-color: #1379b5;\n",
       "  color: #f1f1f1;\n",
       "}\n",
       "#T_41649_row2_col3 {\n",
       "  background-color: #91b5d6;\n",
       "  color: #000000;\n",
       "}\n",
       "</style>\n",
       "<table id=\"T_41649_\">\n",
       "  <thead>\n",
       "    <tr>\n",
       "      <th class=\"blank level0\" >&nbsp;</th>\n",
       "      <th class=\"col_heading level0 col0\" >KNN_NR</th>\n",
       "      <th class=\"col_heading level0 col1\" >KNN_R</th>\n",
       "      <th class=\"col_heading level0 col2\" >DTC_NR</th>\n",
       "      <th class=\"col_heading level0 col3\" >DTC_R</th>\n",
       "      <th class=\"col_heading level0 col4\" >RFC_NR</th>\n",
       "      <th class=\"col_heading level0 col5\" >RFC_R</th>\n",
       "      <th class=\"col_heading level0 col6\" >MLP_NR</th>\n",
       "      <th class=\"col_heading level0 col7\" >MLP_R</th>\n",
       "      <th class=\"col_heading level0 col8\" >LogReg_NR</th>\n",
       "      <th class=\"col_heading level0 col9\" >LogReg_R</th>\n",
       "    </tr>\n",
       "  </thead>\n",
       "  <tbody>\n",
       "    <tr>\n",
       "      <th id=\"T_41649_level0_row0\" class=\"row_heading level0 row0\" >Label_support</th>\n",
       "      <td id=\"T_41649_row0_col0\" class=\"data row0 col0\" >4.000000</td>\n",
       "      <td id=\"T_41649_row0_col1\" class=\"data row0 col1\" >7.000000</td>\n",
       "      <td id=\"T_41649_row0_col2\" class=\"data row0 col2\" >4.000000</td>\n",
       "      <td id=\"T_41649_row0_col3\" class=\"data row0 col3\" >7.000000</td>\n",
       "      <td id=\"T_41649_row0_col4\" class=\"data row0 col4\" >4.000000</td>\n",
       "      <td id=\"T_41649_row0_col5\" class=\"data row0 col5\" >7.000000</td>\n",
       "      <td id=\"T_41649_row0_col6\" class=\"data row0 col6\" >4.000000</td>\n",
       "      <td id=\"T_41649_row0_col7\" class=\"data row0 col7\" >7.000000</td>\n",
       "      <td id=\"T_41649_row0_col8\" class=\"data row0 col8\" >4.000000</td>\n",
       "      <td id=\"T_41649_row0_col9\" class=\"data row0 col9\" >7.000000</td>\n",
       "    </tr>\n",
       "    <tr>\n",
       "      <th id=\"T_41649_level0_row1\" class=\"row_heading level0 row1\" >Precision_perLabel</th>\n",
       "      <td id=\"T_41649_row1_col0\" class=\"data row1 col0\" >0.750000</td>\n",
       "      <td id=\"T_41649_row1_col1\" class=\"data row1 col1\" >0.857143</td>\n",
       "      <td id=\"T_41649_row1_col2\" class=\"data row1 col2\" >0.600000</td>\n",
       "      <td id=\"T_41649_row1_col3\" class=\"data row1 col3\" >0.833333</td>\n",
       "      <td id=\"T_41649_row1_col4\" class=\"data row1 col4\" >0.666667</td>\n",
       "      <td id=\"T_41649_row1_col5\" class=\"data row1 col5\" >0.750000</td>\n",
       "      <td id=\"T_41649_row1_col6\" class=\"data row1 col6\" >1.000000</td>\n",
       "      <td id=\"T_41649_row1_col7\" class=\"data row1 col7\" >0.875000</td>\n",
       "      <td id=\"T_41649_row1_col8\" class=\"data row1 col8\" >0.750000</td>\n",
       "      <td id=\"T_41649_row1_col9\" class=\"data row1 col9\" >0.857143</td>\n",
       "    </tr>\n",
       "    <tr>\n",
       "      <th id=\"T_41649_level0_row2\" class=\"row_heading level0 row2\" >Recall_perLabel</th>\n",
       "      <td id=\"T_41649_row2_col0\" class=\"data row2 col0\" >0.750000</td>\n",
       "      <td id=\"T_41649_row2_col1\" class=\"data row2 col1\" >0.857143</td>\n",
       "      <td id=\"T_41649_row2_col2\" class=\"data row2 col2\" >0.750000</td>\n",
       "      <td id=\"T_41649_row2_col3\" class=\"data row2 col3\" >0.714286</td>\n",
       "      <td id=\"T_41649_row2_col4\" class=\"data row2 col4\" >0.500000</td>\n",
       "      <td id=\"T_41649_row2_col5\" class=\"data row2 col5\" >0.857143</td>\n",
       "      <td id=\"T_41649_row2_col6\" class=\"data row2 col6\" >0.750000</td>\n",
       "      <td id=\"T_41649_row2_col7\" class=\"data row2 col7\" >1.000000</td>\n",
       "      <td id=\"T_41649_row2_col8\" class=\"data row2 col8\" >0.750000</td>\n",
       "      <td id=\"T_41649_row2_col9\" class=\"data row2 col9\" >0.857143</td>\n",
       "    </tr>\n",
       "  </tbody>\n",
       "</table>\n"
      ],
      "text/plain": [
       "<pandas.io.formats.style.Styler at 0x23d7f9e4358>"
      ]
     },
     "execution_count": 24,
     "metadata": {},
     "output_type": "execute_result"
    }
   ],
   "source": [
    "knn_plmetrics = pd.DataFrame(knn_fm_perlabel_metrics, index=[\"KNN_NR\" , \"KNN_R\"])\n",
    "dtc_plmetrics = pd.DataFrame(dtc_fm_perlabel_metrics, index=[\"DTC_NR\", \"DTC_R\"])\n",
    "rtc_plmetrics = pd.DataFrame(rtc_fm_perlabel_metrics, index=[\"RFC_NR\", \"RFC_R\"])\n",
    "mlp_plmetrics = pd.DataFrame(mlp_fm_perlabel_metrics, index=[\"MLP_NR\", \"MLP_R\"])\n",
    "logreg_plmetrics = pd.DataFrame(logreg_fm_perlabel_metrics, index=[\"LogReg_NR\", \"LogReg_R\"])\n",
    "\n",
    "global_pl_metrics = pd.concat((knn_plmetrics,dtc_plmetrics, rtc_plmetrics, mlp_plmetrics, logreg_plmetrics), axis=0).transpose()\n",
    "global_pl_metrics.style.background_gradient(cmap='PuBu', axis=1)"
   ]
  },
  {
   "cell_type": "markdown",
   "metadata": {},
   "source": [
    "As expected, label support values are the same for every model. R types also are overrepresented compared to NR types, which is logical as there was more global frequency of R types in the dataset.\n",
    "\n",
    "It seems that also due to this precision and recall values are consistently higher for R label predictions, except in the case of precision values for the NR label predicted by the MLP model, which has considerably more performance than the rest of the models."
   ]
  },
  {
   "cell_type": "code",
   "execution_count": 25,
   "metadata": {},
   "outputs": [],
   "source": [
    "#save to csv\n",
    "global_ev_metrics.to_csv(\"Global_metrics.csv\")\n",
    "global_pl_metrics.to_csv(\"PerLabel_metrics.csv\")\n",
    "global_cv_metrics.to_csv(\"Crossval_metrics.csv\")\n"
   ]
  },
  {
   "cell_type": "markdown",
   "metadata": {},
   "source": [
    "<a id='#Conclusion'></a>"
   ]
  },
  {
   "cell_type": "markdown",
   "metadata": {},
   "source": [
    "---\n",
    "## Conclusions"
   ]
  },
  {
   "cell_type": "markdown",
   "metadata": {},
   "source": [
    "The present work elucidated two conclusions from the results obtained by it:\n",
    "\n",
    "* After deploying 5 types of supervised machine learning models, the final **Multi-Layer Perceptron MLP** model is the one that proved to have better performance **across F1, precision, recall and accuracy globally**, and competitive Precision and Recall metrics per label. This model was followed by K Nearest Neighbors, Logistic Regression, Decision Tree Classifier and Random Forest Classifier final models.\n",
    "\n",
    "* It is important to note that MLP likely had more performance due to its ability to encapsulate high dimensionality data In addition, it was the model with the most parameters that were specified in the grid for optimization. \n",
    "\n",
    "* Thus, for **future lines of improvement, widening the hyperparameter grid range** to get the optimal model is proposed. In addition, the **work could determine the optimal data splitting and sampling methods** for both **train-test data splittings** and **cross-validation** for more accurate evaluations and model selection, respectively. A larger cohort of patients could be gathered by next studies to have bigger size samples as well. In this way, test data could be larger and have more representative prediction evaluation metrics for the training, and training could be performed with less partitions being less costly and having less variation."
   ]
  },
  {
   "cell_type": "markdown",
   "metadata": {},
   "source": [
    "---\n",
    "## REFERENCES"
   ]
  },
  {
   "cell_type": "markdown",
   "metadata": {},
   "source": [
    "- *Miroslav Kubar, “An Introduction to Machine Learning”, 2nd, Springer, 2017.*\n",
    "- *Pedro Isasi e Inés M Galván Redes de Neuronas Artificiales Un enfoque Práctico Ed Pearson, 2004*\n",
    "- *Chapter 5 Logistic Regression, Speech and Language Processing. Daniel Jurafsky & James H. Martin*\n",
    "- *Fagny, M., Platig, J., Kuijjer, M. L., Lin, X., & Quackenbush, J. (2020). Nongenic cancer-risk SNPs affect oncogenes, tumour-suppressor genes, and immune function. British Journal of Cancer, 122(4), Article 4. https://doi.org/10.1038/s41416-019-0614-3*\n",
    "- *Mármol, I., Sánchez-de-Diego, C., Pradilla Dieste, A., Cerrada, E., & Rodriguez Yoldi, M. J. (2017). Colorectal Carcinoma: A General Overview and Future Perspectives in Colorectal Cancer. International Journal of Molecular Sciences, 18(1), 197. https://doi.org/10.3390/ijms18010197*\n",
    "- *Vignal, A., Milan, D., SanCristobal, M., & Eggen, A. (2002). A review on SNP and other types of molecular markers and their use in animal genetics. Genetics, Selection, Evolution : GSE, 34(3), 275–305. https://doi.org/10.1186/1297-9686-34-3-275*\n",
    "\n",
    "\n"
   ]
  }
 ],
 "metadata": {
  "kernelspec": {
   "display_name": "Python 3",
   "language": "python",
   "name": "python3"
  },
  "language_info": {
   "codemirror_mode": {
    "name": "ipython",
    "version": 3
   },
   "file_extension": ".py",
   "mimetype": "text/x-python",
   "name": "python",
   "nbconvert_exporter": "python",
   "pygments_lexer": "ipython3",
   "version": "3.7.4"
  }
 },
 "nbformat": 4,
 "nbformat_minor": 5
}
